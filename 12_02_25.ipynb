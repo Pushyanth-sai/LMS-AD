{
  "nbformat": 4,
  "nbformat_minor": 0,
  "metadata": {
    "colab": {
      "provenance": [],
      "gpuType": "T4",
      "include_colab_link": true
    },
    "kernelspec": {
      "name": "python3",
      "display_name": "Python 3"
    },
    "language_info": {
      "name": "python"
    },
    "accelerator": "GPU"
  },
  "cells": [
    {
      "cell_type": "markdown",
      "metadata": {
        "id": "view-in-github",
        "colab_type": "text"
      },
      "source": [
        "<a href=\"https://colab.research.google.com/github/Pushyanth-sai/LMS-AD/blob/main/12_02_25.ipynb\" target=\"_parent\"><img src=\"https://colab.research.google.com/assets/colab-badge.svg\" alt=\"Open In Colab\"/></a>"
      ]
    },
    {
      "cell_type": "code",
      "execution_count": 1,
      "metadata": {
        "id": "NA46n5QTk896"
      },
      "outputs": [],
      "source": [
        "import pandas as pd\n",
        "import numpy as np\n",
        "import matplotlib.pyplot as plt\n",
        "import seaborn as sns"
      ]
    },
    {
      "cell_type": "code",
      "source": [
        "import pandas as pd\n",
        "data = pd.read_csv(\"/content/fake_news.csv\", on_bad_lines='skip', quoting=3)\n",
        "data.head()"
      ],
      "metadata": {
        "colab": {
          "base_uri": "https://localhost:8080/",
          "height": 588
        },
        "id": "lOL-LU4CmKMP",
        "outputId": "0e59d783-e108-40f9-b547-0d9fa055756c"
      },
      "execution_count": 2,
      "outputs": [
        {
          "output_type": "execute_result",
          "data": {
            "text/plain": [
              "                                                                                                                                                  id  \\\n",
              "0                                              House Dem Aide: We Didn’t Even See Comey’s Lett...                                      Darrell Lucus   \n",
              "With apologies to Keith Olbermann               there is no doubt who the Worst Person in The ...   it looks like we also know who the second-wor...   \n",
              "As we now know                                  Comey notified the Republican chairmen and Dem...                                          Judiciary   \n",
              "— Jason Chaffetz (@jasoninthehouse) October 28  2016                                                                                             NaN   \n",
              "Of course                                       we now know that this was not the case . Comey...   and possibly an entire term’s worth of them. ...   \n",
              "\n",
              "                                                                                                                                               title  \\\n",
              "0                                              House Dem Aide: We Didn’t Even See Comey’s Lett...  \"House Dem Aide: We Didn’t Even See Comey’s Le...   \n",
              "With apologies to Keith Olbermann               there is no doubt who the Worst Person in The ...   the ranking Democrats on the relevant committ...   \n",
              "As we now know                                  Comey notified the Republican chairmen and Dem...   and Oversight committees that his agency was ...   \n",
              "— Jason Chaffetz (@jasoninthehouse) October 28  2016                                                                                             NaN   \n",
              "Of course                                       we now know that this was not the case . Comey...                                                NaN   \n",
              "\n",
              "                                                                                                                                              author  \\\n",
              "0                                              House Dem Aide: We Didn’t Even See Comey’s Lett...   2016 Subscribe Jason Chaffetz on the stump in...   \n",
              "With apologies to Keith Olbermann               there is no doubt who the Worst Person in The ...                                                NaN   \n",
              "As we now know                                  Comey notified the Republican chairmen and Dem...   Oversight Committee Chairman Jason Chaffetz s...   \n",
              "— Jason Chaffetz (@jasoninthehouse) October 28  2016                                                                                             NaN   \n",
              "Of course                                       we now know that this was not the case . Comey...                                                NaN   \n",
              "\n",
              "                                                                                                                                                text  \\\n",
              "0                                              House Dem Aide: We Didn’t Even See Comey’s Lett...               Utah ( image courtesy Michael Jolley   \n",
              "With apologies to Keith Olbermann               there is no doubt who the Worst Person in The ...                                                NaN   \n",
              "As we now know                                  Comey notified the Republican chairmen and Dem...   \"\"The FBI has learned of the existence of ema...   \n",
              "— Jason Chaffetz (@jasoninthehouse) October 28  2016                                                                                             NaN   \n",
              "Of course                                       we now know that this was not the case . Comey...                                                NaN   \n",
              "\n",
              "                                                                                                                                              label  \n",
              "0                                              House Dem Aide: We Didn’t Even See Comey’s Lett...   available under a Creative Commons-BY license)   \n",
              "With apologies to Keith Olbermann               there is no doubt who the Worst Person in The ...                                               NaN  \n",
              "As we now know                                  Comey notified the Republican chairmen and Dem...                                               NaN  \n",
              "— Jason Chaffetz (@jasoninthehouse) October 28  2016                                                                                            NaN  \n",
              "Of course                                       we now know that this was not the case . Comey...                                               NaN  "
            ],
            "text/html": [
              "\n",
              "  <div id=\"df-51ba15f9-e1b8-494c-b57f-aa3decf7be63\" class=\"colab-df-container\">\n",
              "    <div>\n",
              "<style scoped>\n",
              "    .dataframe tbody tr th:only-of-type {\n",
              "        vertical-align: middle;\n",
              "    }\n",
              "\n",
              "    .dataframe tbody tr th {\n",
              "        vertical-align: top;\n",
              "    }\n",
              "\n",
              "    .dataframe thead th {\n",
              "        text-align: right;\n",
              "    }\n",
              "</style>\n",
              "<table border=\"1\" class=\"dataframe\">\n",
              "  <thead>\n",
              "    <tr style=\"text-align: right;\">\n",
              "      <th></th>\n",
              "      <th></th>\n",
              "      <th>id</th>\n",
              "      <th>title</th>\n",
              "      <th>author</th>\n",
              "      <th>text</th>\n",
              "      <th>label</th>\n",
              "    </tr>\n",
              "  </thead>\n",
              "  <tbody>\n",
              "    <tr>\n",
              "      <th>0</th>\n",
              "      <th>House Dem Aide: We Didn’t Even See Comey’s Letter Until Jason Chaffetz Tweeted It</th>\n",
              "      <td>Darrell Lucus</td>\n",
              "      <td>\"House Dem Aide: We Didn’t Even See Comey’s Le...</td>\n",
              "      <td>2016 Subscribe Jason Chaffetz on the stump in...</td>\n",
              "      <td>Utah ( image courtesy Michael Jolley</td>\n",
              "      <td>available under a Creative Commons-BY license)</td>\n",
              "    </tr>\n",
              "    <tr>\n",
              "      <th>With apologies to Keith Olbermann</th>\n",
              "      <th>there is no doubt who the Worst Person in The World is this week–FBI Director James Comey. But according to a House Democratic aide</th>\n",
              "      <td>it looks like we also know who the second-wor...</td>\n",
              "      <td>the ranking Democrats on the relevant committ...</td>\n",
              "      <td>NaN</td>\n",
              "      <td>NaN</td>\n",
              "      <td>NaN</td>\n",
              "    </tr>\n",
              "    <tr>\n",
              "      <th>As we now know</th>\n",
              "      <th>Comey notified the Republican chairmen and Democratic ranking members of the House Intelligence</th>\n",
              "      <td>Judiciary</td>\n",
              "      <td>and Oversight committees that his agency was ...</td>\n",
              "      <td>Oversight Committee Chairman Jason Chaffetz s...</td>\n",
              "      <td>\"\"The FBI has learned of the existence of ema...</td>\n",
              "      <td>NaN</td>\n",
              "    </tr>\n",
              "    <tr>\n",
              "      <th>— Jason Chaffetz (@jasoninthehouse) October 28</th>\n",
              "      <th>2016</th>\n",
              "      <td>NaN</td>\n",
              "      <td>NaN</td>\n",
              "      <td>NaN</td>\n",
              "      <td>NaN</td>\n",
              "      <td>NaN</td>\n",
              "    </tr>\n",
              "    <tr>\n",
              "      <th>Of course</th>\n",
              "      <th>we now know that this was not the case . Comey was actually saying that it was reviewing the emails in light of “an unrelated case”–which we now know to be Anthony Weiner’s sexting with a teenager. But apparently such little things as facts didn’t matter to Chaffetz. The Utah Republican had already vowed to initiate a raft of investigations if Hillary wins–at least two years’ worth</th>\n",
              "      <td>and possibly an entire term’s worth of them. ...</td>\n",
              "      <td>NaN</td>\n",
              "      <td>NaN</td>\n",
              "      <td>NaN</td>\n",
              "      <td>NaN</td>\n",
              "    </tr>\n",
              "  </tbody>\n",
              "</table>\n",
              "</div>\n",
              "    <div class=\"colab-df-buttons\">\n",
              "\n",
              "  <div class=\"colab-df-container\">\n",
              "    <button class=\"colab-df-convert\" onclick=\"convertToInteractive('df-51ba15f9-e1b8-494c-b57f-aa3decf7be63')\"\n",
              "            title=\"Convert this dataframe to an interactive table.\"\n",
              "            style=\"display:none;\">\n",
              "\n",
              "  <svg xmlns=\"http://www.w3.org/2000/svg\" height=\"24px\" viewBox=\"0 -960 960 960\">\n",
              "    <path d=\"M120-120v-720h720v720H120Zm60-500h600v-160H180v160Zm220 220h160v-160H400v160Zm0 220h160v-160H400v160ZM180-400h160v-160H180v160Zm440 0h160v-160H620v160ZM180-180h160v-160H180v160Zm440 0h160v-160H620v160Z\"/>\n",
              "  </svg>\n",
              "    </button>\n",
              "\n",
              "  <style>\n",
              "    .colab-df-container {\n",
              "      display:flex;\n",
              "      gap: 12px;\n",
              "    }\n",
              "\n",
              "    .colab-df-convert {\n",
              "      background-color: #E8F0FE;\n",
              "      border: none;\n",
              "      border-radius: 50%;\n",
              "      cursor: pointer;\n",
              "      display: none;\n",
              "      fill: #1967D2;\n",
              "      height: 32px;\n",
              "      padding: 0 0 0 0;\n",
              "      width: 32px;\n",
              "    }\n",
              "\n",
              "    .colab-df-convert:hover {\n",
              "      background-color: #E2EBFA;\n",
              "      box-shadow: 0px 1px 2px rgba(60, 64, 67, 0.3), 0px 1px 3px 1px rgba(60, 64, 67, 0.15);\n",
              "      fill: #174EA6;\n",
              "    }\n",
              "\n",
              "    .colab-df-buttons div {\n",
              "      margin-bottom: 4px;\n",
              "    }\n",
              "\n",
              "    [theme=dark] .colab-df-convert {\n",
              "      background-color: #3B4455;\n",
              "      fill: #D2E3FC;\n",
              "    }\n",
              "\n",
              "    [theme=dark] .colab-df-convert:hover {\n",
              "      background-color: #434B5C;\n",
              "      box-shadow: 0px 1px 3px 1px rgba(0, 0, 0, 0.15);\n",
              "      filter: drop-shadow(0px 1px 2px rgba(0, 0, 0, 0.3));\n",
              "      fill: #FFFFFF;\n",
              "    }\n",
              "  </style>\n",
              "\n",
              "    <script>\n",
              "      const buttonEl =\n",
              "        document.querySelector('#df-51ba15f9-e1b8-494c-b57f-aa3decf7be63 button.colab-df-convert');\n",
              "      buttonEl.style.display =\n",
              "        google.colab.kernel.accessAllowed ? 'block' : 'none';\n",
              "\n",
              "      async function convertToInteractive(key) {\n",
              "        const element = document.querySelector('#df-51ba15f9-e1b8-494c-b57f-aa3decf7be63');\n",
              "        const dataTable =\n",
              "          await google.colab.kernel.invokeFunction('convertToInteractive',\n",
              "                                                    [key], {});\n",
              "        if (!dataTable) return;\n",
              "\n",
              "        const docLinkHtml = 'Like what you see? Visit the ' +\n",
              "          '<a target=\"_blank\" href=https://colab.research.google.com/notebooks/data_table.ipynb>data table notebook</a>'\n",
              "          + ' to learn more about interactive tables.';\n",
              "        element.innerHTML = '';\n",
              "        dataTable['output_type'] = 'display_data';\n",
              "        await google.colab.output.renderOutput(dataTable, element);\n",
              "        const docLink = document.createElement('div');\n",
              "        docLink.innerHTML = docLinkHtml;\n",
              "        element.appendChild(docLink);\n",
              "      }\n",
              "    </script>\n",
              "  </div>\n",
              "\n",
              "\n",
              "<div id=\"df-bf69305a-f2a6-4f2c-aac0-e187dd7bc7fc\">\n",
              "  <button class=\"colab-df-quickchart\" onclick=\"quickchart('df-bf69305a-f2a6-4f2c-aac0-e187dd7bc7fc')\"\n",
              "            title=\"Suggest charts\"\n",
              "            style=\"display:none;\">\n",
              "\n",
              "<svg xmlns=\"http://www.w3.org/2000/svg\" height=\"24px\"viewBox=\"0 0 24 24\"\n",
              "     width=\"24px\">\n",
              "    <g>\n",
              "        <path d=\"M19 3H5c-1.1 0-2 .9-2 2v14c0 1.1.9 2 2 2h14c1.1 0 2-.9 2-2V5c0-1.1-.9-2-2-2zM9 17H7v-7h2v7zm4 0h-2V7h2v10zm4 0h-2v-4h2v4z\"/>\n",
              "    </g>\n",
              "</svg>\n",
              "  </button>\n",
              "\n",
              "<style>\n",
              "  .colab-df-quickchart {\n",
              "      --bg-color: #E8F0FE;\n",
              "      --fill-color: #1967D2;\n",
              "      --hover-bg-color: #E2EBFA;\n",
              "      --hover-fill-color: #174EA6;\n",
              "      --disabled-fill-color: #AAA;\n",
              "      --disabled-bg-color: #DDD;\n",
              "  }\n",
              "\n",
              "  [theme=dark] .colab-df-quickchart {\n",
              "      --bg-color: #3B4455;\n",
              "      --fill-color: #D2E3FC;\n",
              "      --hover-bg-color: #434B5C;\n",
              "      --hover-fill-color: #FFFFFF;\n",
              "      --disabled-bg-color: #3B4455;\n",
              "      --disabled-fill-color: #666;\n",
              "  }\n",
              "\n",
              "  .colab-df-quickchart {\n",
              "    background-color: var(--bg-color);\n",
              "    border: none;\n",
              "    border-radius: 50%;\n",
              "    cursor: pointer;\n",
              "    display: none;\n",
              "    fill: var(--fill-color);\n",
              "    height: 32px;\n",
              "    padding: 0;\n",
              "    width: 32px;\n",
              "  }\n",
              "\n",
              "  .colab-df-quickchart:hover {\n",
              "    background-color: var(--hover-bg-color);\n",
              "    box-shadow: 0 1px 2px rgba(60, 64, 67, 0.3), 0 1px 3px 1px rgba(60, 64, 67, 0.15);\n",
              "    fill: var(--button-hover-fill-color);\n",
              "  }\n",
              "\n",
              "  .colab-df-quickchart-complete:disabled,\n",
              "  .colab-df-quickchart-complete:disabled:hover {\n",
              "    background-color: var(--disabled-bg-color);\n",
              "    fill: var(--disabled-fill-color);\n",
              "    box-shadow: none;\n",
              "  }\n",
              "\n",
              "  .colab-df-spinner {\n",
              "    border: 2px solid var(--fill-color);\n",
              "    border-color: transparent;\n",
              "    border-bottom-color: var(--fill-color);\n",
              "    animation:\n",
              "      spin 1s steps(1) infinite;\n",
              "  }\n",
              "\n",
              "  @keyframes spin {\n",
              "    0% {\n",
              "      border-color: transparent;\n",
              "      border-bottom-color: var(--fill-color);\n",
              "      border-left-color: var(--fill-color);\n",
              "    }\n",
              "    20% {\n",
              "      border-color: transparent;\n",
              "      border-left-color: var(--fill-color);\n",
              "      border-top-color: var(--fill-color);\n",
              "    }\n",
              "    30% {\n",
              "      border-color: transparent;\n",
              "      border-left-color: var(--fill-color);\n",
              "      border-top-color: var(--fill-color);\n",
              "      border-right-color: var(--fill-color);\n",
              "    }\n",
              "    40% {\n",
              "      border-color: transparent;\n",
              "      border-right-color: var(--fill-color);\n",
              "      border-top-color: var(--fill-color);\n",
              "    }\n",
              "    60% {\n",
              "      border-color: transparent;\n",
              "      border-right-color: var(--fill-color);\n",
              "    }\n",
              "    80% {\n",
              "      border-color: transparent;\n",
              "      border-right-color: var(--fill-color);\n",
              "      border-bottom-color: var(--fill-color);\n",
              "    }\n",
              "    90% {\n",
              "      border-color: transparent;\n",
              "      border-bottom-color: var(--fill-color);\n",
              "    }\n",
              "  }\n",
              "</style>\n",
              "\n",
              "  <script>\n",
              "    async function quickchart(key) {\n",
              "      const quickchartButtonEl =\n",
              "        document.querySelector('#' + key + ' button');\n",
              "      quickchartButtonEl.disabled = true;  // To prevent multiple clicks.\n",
              "      quickchartButtonEl.classList.add('colab-df-spinner');\n",
              "      try {\n",
              "        const charts = await google.colab.kernel.invokeFunction(\n",
              "            'suggestCharts', [key], {});\n",
              "      } catch (error) {\n",
              "        console.error('Error during call to suggestCharts:', error);\n",
              "      }\n",
              "      quickchartButtonEl.classList.remove('colab-df-spinner');\n",
              "      quickchartButtonEl.classList.add('colab-df-quickchart-complete');\n",
              "    }\n",
              "    (() => {\n",
              "      let quickchartButtonEl =\n",
              "        document.querySelector('#df-bf69305a-f2a6-4f2c-aac0-e187dd7bc7fc button');\n",
              "      quickchartButtonEl.style.display =\n",
              "        google.colab.kernel.accessAllowed ? 'block' : 'none';\n",
              "    })();\n",
              "  </script>\n",
              "</div>\n",
              "\n",
              "    </div>\n",
              "  </div>\n"
            ],
            "application/vnd.google.colaboratory.intrinsic+json": {
              "type": "dataframe",
              "variable_name": "data",
              "summary": "{\n  \"name\": \"data\",\n  \"rows\": 5402,\n  \"fields\": [\n    {\n      \"column\": \"id\",\n      \"properties\": {\n        \"dtype\": \"category\",\n        \"num_unique_values\": 2490,\n        \"samples\": [\n          \" fungicides\",\n          \" or by choosing to abstain rather than exercising a veto. In addition to betraying long-standing commitments to Israel and running counter to strong bipartisan opposition\",\n          \" Putin has busily been doing the opposite. The Russian military is capable of wiping our large swaths of this country in less than an afternoon.\"\n        ],\n        \"semantic_type\": \"\",\n        \"description\": \"\"\n      }\n    },\n    {\n      \"column\": \"title\",\n      \"properties\": {\n        \"dtype\": \"category\",\n        \"num_unique_values\": 1710,\n        \"samples\": [\n          \" which was bound up in a ransom deal aimed at freeing several American hostages from Iran. \",\n          \" if you ask somebody standing in the supermarket if they have inflation they might give you a bit of an argument. But by government standards it\\u2019s not quite there yet.\\u201d \",\n          \" compassion and the power of the jury box.\"\n        ],\n        \"semantic_type\": \"\",\n        \"description\": \"\"\n      }\n    },\n    {\n      \"column\": \"author\",\n      \"properties\": {\n        \"dtype\": \"category\",\n        \"num_unique_values\": 1006,\n        \"samples\": [\n          \" 2016 GOLD \",\n          \"\\\"\\u201cNational Mood\\u201d Focus Group Reflects Angry\",\n          \" Amnesty estimated.\"\n        ],\n        \"semantic_type\": \"\",\n        \"description\": \"\"\n      }\n    },\n    {\n      \"column\": \"text\",\n      \"properties\": {\n        \"dtype\": \"category\",\n        \"num_unique_values\": 534,\n        \"samples\": [\n          \" ENTERTAINMENT Share 0 Add Comment \",\n          \" and contains a chart of 23 pricey projects that received billions in initial funding but were later canceled. The report shows this happening as far back as 1997. \\u00a9 REUTERS/ Master Sgt. Kevin J. Gruenwald Pentagon Prepares to Start Raqqa Offensive Within Weeks \",\n          \"\\u201d saying that this white supremacist and Islamophobic movement represents a clear and present danger to this country\\u2019s very existence. \"\n        ],\n        \"semantic_type\": \"\",\n        \"description\": \"\"\n      }\n    },\n    {\n      \"column\": \"label\",\n      \"properties\": {\n        \"dtype\": \"category\",\n        \"num_unique_values\": 189,\n        \"samples\": [\n          \" is that true? Or did it just slow it down? What will a Trump presidency mean in that sense?\\u201d \",\n          \" there is \",\n          \" they are getting quite a bit of very friendly publicity as a form of reaction to the rise of the Alt-Right. \"\n        ],\n        \"semantic_type\": \"\",\n        \"description\": \"\"\n      }\n    }\n  ]\n}"
            }
          },
          "metadata": {},
          "execution_count": 2
        }
      ]
    },
    {
      "cell_type": "code",
      "source": [
        "data.info()"
      ],
      "metadata": {
        "colab": {
          "base_uri": "https://localhost:8080/"
        },
        "id": "H9IlKpU6n1zr",
        "outputId": "1b3d8d75-d4a3-479a-f1a4-2321bc441dd6"
      },
      "execution_count": 3,
      "outputs": [
        {
          "output_type": "stream",
          "name": "stdout",
          "text": [
            "<class 'pandas.core.frame.DataFrame'>\n",
            "MultiIndex: 5402 entries, ('0', 'House Dem Aide: We Didn’t Even See Comey’s Letter Until Jason Chaffetz Tweeted It') to ('She said: “The streets are littered with rubbish and faeces. We can hear blood-curdling screams coming from the camp in the middle of the night.\"', '1')\n",
            "Data columns (total 5 columns):\n",
            " #   Column  Non-Null Count  Dtype \n",
            "---  ------  --------------  ----- \n",
            " 0   id      2698 non-null   object\n",
            " 1   title   1864 non-null   object\n",
            " 2   author  1105 non-null   object\n",
            " 3   text    583 non-null    object\n",
            " 4   label   212 non-null    object\n",
            "dtypes: object(5)\n",
            "memory usage: 557.4+ KB\n"
          ]
        }
      ]
    },
    {
      "cell_type": "code",
      "source": [
        "data.isna().sum()"
      ],
      "metadata": {
        "colab": {
          "base_uri": "https://localhost:8080/",
          "height": 241
        },
        "id": "vIBj_wV3oYH6",
        "outputId": "ae910960-0c60-41b8-85ff-e8a4f5f95d22"
      },
      "execution_count": 4,
      "outputs": [
        {
          "output_type": "execute_result",
          "data": {
            "text/plain": [
              "id        2704\n",
              "title     3538\n",
              "author    4297\n",
              "text      4819\n",
              "label     5190\n",
              "dtype: int64"
            ],
            "text/html": [
              "<div>\n",
              "<style scoped>\n",
              "    .dataframe tbody tr th:only-of-type {\n",
              "        vertical-align: middle;\n",
              "    }\n",
              "\n",
              "    .dataframe tbody tr th {\n",
              "        vertical-align: top;\n",
              "    }\n",
              "\n",
              "    .dataframe thead th {\n",
              "        text-align: right;\n",
              "    }\n",
              "</style>\n",
              "<table border=\"1\" class=\"dataframe\">\n",
              "  <thead>\n",
              "    <tr style=\"text-align: right;\">\n",
              "      <th></th>\n",
              "      <th>0</th>\n",
              "    </tr>\n",
              "  </thead>\n",
              "  <tbody>\n",
              "    <tr>\n",
              "      <th>id</th>\n",
              "      <td>2704</td>\n",
              "    </tr>\n",
              "    <tr>\n",
              "      <th>title</th>\n",
              "      <td>3538</td>\n",
              "    </tr>\n",
              "    <tr>\n",
              "      <th>author</th>\n",
              "      <td>4297</td>\n",
              "    </tr>\n",
              "    <tr>\n",
              "      <th>text</th>\n",
              "      <td>4819</td>\n",
              "    </tr>\n",
              "    <tr>\n",
              "      <th>label</th>\n",
              "      <td>5190</td>\n",
              "    </tr>\n",
              "  </tbody>\n",
              "</table>\n",
              "</div><br><label><b>dtype:</b> int64</label>"
            ]
          },
          "metadata": {},
          "execution_count": 4
        }
      ]
    },
    {
      "cell_type": "code",
      "source": [
        "data = data.drop(['id'], axis=1)"
      ],
      "metadata": {
        "id": "CiPvSAdooap_"
      },
      "execution_count": 5,
      "outputs": []
    },
    {
      "cell_type": "code",
      "source": [
        "data = data.fillna('')"
      ],
      "metadata": {
        "id": "JrmhcT0_omzG"
      },
      "execution_count": 6,
      "outputs": []
    },
    {
      "cell_type": "code",
      "source": [
        "data['content'] = data['author']+' '+data['title']+' '+data['text']"
      ],
      "metadata": {
        "id": "O_ggZpYOozRs"
      },
      "execution_count": 7,
      "outputs": []
    },
    {
      "cell_type": "code",
      "source": [
        "data = data.drop(['title','author','text'], axis=1)"
      ],
      "metadata": {
        "id": "SESfYY4NpkzT"
      },
      "execution_count": 8,
      "outputs": []
    },
    {
      "cell_type": "code",
      "source": [
        "data.head()"
      ],
      "metadata": {
        "colab": {
          "base_uri": "https://localhost:8080/",
          "height": 449
        },
        "id": "Cb4ZFS0dptCD",
        "outputId": "bd05efb5-d213-4156-92a8-cef6a2f65e5d"
      },
      "execution_count": 9,
      "outputs": [
        {
          "output_type": "execute_result",
          "data": {
            "text/plain": [
              "                                                                                                                                              label  \\\n",
              "0                                              House Dem Aide: We Didn’t Even See Comey’s Lett...   available under a Creative Commons-BY license)    \n",
              "With apologies to Keith Olbermann               there is no doubt who the Worst Person in The ...                                                     \n",
              "As we now know                                  Comey notified the Republican chairmen and Dem...                                                     \n",
              "— Jason Chaffetz (@jasoninthehouse) October 28  2016                                                                                                  \n",
              "Of course                                       we now know that this was not the case . Comey...                                                     \n",
              "\n",
              "                                                                                                                                             content  \n",
              "0                                              House Dem Aide: We Didn’t Even See Comey’s Lett...   2016 Subscribe Jason Chaffetz on the stump in...  \n",
              "With apologies to Keith Olbermann               there is no doubt who the Worst Person in The ...    the ranking Democrats on the relevant commit...  \n",
              "As we now know                                  Comey notified the Republican chairmen and Dem...   Oversight Committee Chairman Jason Chaffetz s...  \n",
              "— Jason Chaffetz (@jasoninthehouse) October 28  2016                                                                                                  \n",
              "Of course                                       we now know that this was not the case . Comey...                                                     "
            ],
            "text/html": [
              "\n",
              "  <div id=\"df-33273a7d-5e58-4e6a-b881-698f24a88c97\" class=\"colab-df-container\">\n",
              "    <div>\n",
              "<style scoped>\n",
              "    .dataframe tbody tr th:only-of-type {\n",
              "        vertical-align: middle;\n",
              "    }\n",
              "\n",
              "    .dataframe tbody tr th {\n",
              "        vertical-align: top;\n",
              "    }\n",
              "\n",
              "    .dataframe thead th {\n",
              "        text-align: right;\n",
              "    }\n",
              "</style>\n",
              "<table border=\"1\" class=\"dataframe\">\n",
              "  <thead>\n",
              "    <tr style=\"text-align: right;\">\n",
              "      <th></th>\n",
              "      <th></th>\n",
              "      <th>label</th>\n",
              "      <th>content</th>\n",
              "    </tr>\n",
              "  </thead>\n",
              "  <tbody>\n",
              "    <tr>\n",
              "      <th>0</th>\n",
              "      <th>House Dem Aide: We Didn’t Even See Comey’s Letter Until Jason Chaffetz Tweeted It</th>\n",
              "      <td>available under a Creative Commons-BY license)</td>\n",
              "      <td>2016 Subscribe Jason Chaffetz on the stump in...</td>\n",
              "    </tr>\n",
              "    <tr>\n",
              "      <th>With apologies to Keith Olbermann</th>\n",
              "      <th>there is no doubt who the Worst Person in The World is this week–FBI Director James Comey. But according to a House Democratic aide</th>\n",
              "      <td></td>\n",
              "      <td>the ranking Democrats on the relevant commit...</td>\n",
              "    </tr>\n",
              "    <tr>\n",
              "      <th>As we now know</th>\n",
              "      <th>Comey notified the Republican chairmen and Democratic ranking members of the House Intelligence</th>\n",
              "      <td></td>\n",
              "      <td>Oversight Committee Chairman Jason Chaffetz s...</td>\n",
              "    </tr>\n",
              "    <tr>\n",
              "      <th>— Jason Chaffetz (@jasoninthehouse) October 28</th>\n",
              "      <th>2016</th>\n",
              "      <td></td>\n",
              "      <td></td>\n",
              "    </tr>\n",
              "    <tr>\n",
              "      <th>Of course</th>\n",
              "      <th>we now know that this was not the case . Comey was actually saying that it was reviewing the emails in light of “an unrelated case”–which we now know to be Anthony Weiner’s sexting with a teenager. But apparently such little things as facts didn’t matter to Chaffetz. The Utah Republican had already vowed to initiate a raft of investigations if Hillary wins–at least two years’ worth</th>\n",
              "      <td></td>\n",
              "      <td></td>\n",
              "    </tr>\n",
              "  </tbody>\n",
              "</table>\n",
              "</div>\n",
              "    <div class=\"colab-df-buttons\">\n",
              "\n",
              "  <div class=\"colab-df-container\">\n",
              "    <button class=\"colab-df-convert\" onclick=\"convertToInteractive('df-33273a7d-5e58-4e6a-b881-698f24a88c97')\"\n",
              "            title=\"Convert this dataframe to an interactive table.\"\n",
              "            style=\"display:none;\">\n",
              "\n",
              "  <svg xmlns=\"http://www.w3.org/2000/svg\" height=\"24px\" viewBox=\"0 -960 960 960\">\n",
              "    <path d=\"M120-120v-720h720v720H120Zm60-500h600v-160H180v160Zm220 220h160v-160H400v160Zm0 220h160v-160H400v160ZM180-400h160v-160H180v160Zm440 0h160v-160H620v160ZM180-180h160v-160H180v160Zm440 0h160v-160H620v160Z\"/>\n",
              "  </svg>\n",
              "    </button>\n",
              "\n",
              "  <style>\n",
              "    .colab-df-container {\n",
              "      display:flex;\n",
              "      gap: 12px;\n",
              "    }\n",
              "\n",
              "    .colab-df-convert {\n",
              "      background-color: #E8F0FE;\n",
              "      border: none;\n",
              "      border-radius: 50%;\n",
              "      cursor: pointer;\n",
              "      display: none;\n",
              "      fill: #1967D2;\n",
              "      height: 32px;\n",
              "      padding: 0 0 0 0;\n",
              "      width: 32px;\n",
              "    }\n",
              "\n",
              "    .colab-df-convert:hover {\n",
              "      background-color: #E2EBFA;\n",
              "      box-shadow: 0px 1px 2px rgba(60, 64, 67, 0.3), 0px 1px 3px 1px rgba(60, 64, 67, 0.15);\n",
              "      fill: #174EA6;\n",
              "    }\n",
              "\n",
              "    .colab-df-buttons div {\n",
              "      margin-bottom: 4px;\n",
              "    }\n",
              "\n",
              "    [theme=dark] .colab-df-convert {\n",
              "      background-color: #3B4455;\n",
              "      fill: #D2E3FC;\n",
              "    }\n",
              "\n",
              "    [theme=dark] .colab-df-convert:hover {\n",
              "      background-color: #434B5C;\n",
              "      box-shadow: 0px 1px 3px 1px rgba(0, 0, 0, 0.15);\n",
              "      filter: drop-shadow(0px 1px 2px rgba(0, 0, 0, 0.3));\n",
              "      fill: #FFFFFF;\n",
              "    }\n",
              "  </style>\n",
              "\n",
              "    <script>\n",
              "      const buttonEl =\n",
              "        document.querySelector('#df-33273a7d-5e58-4e6a-b881-698f24a88c97 button.colab-df-convert');\n",
              "      buttonEl.style.display =\n",
              "        google.colab.kernel.accessAllowed ? 'block' : 'none';\n",
              "\n",
              "      async function convertToInteractive(key) {\n",
              "        const element = document.querySelector('#df-33273a7d-5e58-4e6a-b881-698f24a88c97');\n",
              "        const dataTable =\n",
              "          await google.colab.kernel.invokeFunction('convertToInteractive',\n",
              "                                                    [key], {});\n",
              "        if (!dataTable) return;\n",
              "\n",
              "        const docLinkHtml = 'Like what you see? Visit the ' +\n",
              "          '<a target=\"_blank\" href=https://colab.research.google.com/notebooks/data_table.ipynb>data table notebook</a>'\n",
              "          + ' to learn more about interactive tables.';\n",
              "        element.innerHTML = '';\n",
              "        dataTable['output_type'] = 'display_data';\n",
              "        await google.colab.output.renderOutput(dataTable, element);\n",
              "        const docLink = document.createElement('div');\n",
              "        docLink.innerHTML = docLinkHtml;\n",
              "        element.appendChild(docLink);\n",
              "      }\n",
              "    </script>\n",
              "  </div>\n",
              "\n",
              "\n",
              "<div id=\"df-961da403-30aa-4f37-be0a-9a1dcf56728c\">\n",
              "  <button class=\"colab-df-quickchart\" onclick=\"quickchart('df-961da403-30aa-4f37-be0a-9a1dcf56728c')\"\n",
              "            title=\"Suggest charts\"\n",
              "            style=\"display:none;\">\n",
              "\n",
              "<svg xmlns=\"http://www.w3.org/2000/svg\" height=\"24px\"viewBox=\"0 0 24 24\"\n",
              "     width=\"24px\">\n",
              "    <g>\n",
              "        <path d=\"M19 3H5c-1.1 0-2 .9-2 2v14c0 1.1.9 2 2 2h14c1.1 0 2-.9 2-2V5c0-1.1-.9-2-2-2zM9 17H7v-7h2v7zm4 0h-2V7h2v10zm4 0h-2v-4h2v4z\"/>\n",
              "    </g>\n",
              "</svg>\n",
              "  </button>\n",
              "\n",
              "<style>\n",
              "  .colab-df-quickchart {\n",
              "      --bg-color: #E8F0FE;\n",
              "      --fill-color: #1967D2;\n",
              "      --hover-bg-color: #E2EBFA;\n",
              "      --hover-fill-color: #174EA6;\n",
              "      --disabled-fill-color: #AAA;\n",
              "      --disabled-bg-color: #DDD;\n",
              "  }\n",
              "\n",
              "  [theme=dark] .colab-df-quickchart {\n",
              "      --bg-color: #3B4455;\n",
              "      --fill-color: #D2E3FC;\n",
              "      --hover-bg-color: #434B5C;\n",
              "      --hover-fill-color: #FFFFFF;\n",
              "      --disabled-bg-color: #3B4455;\n",
              "      --disabled-fill-color: #666;\n",
              "  }\n",
              "\n",
              "  .colab-df-quickchart {\n",
              "    background-color: var(--bg-color);\n",
              "    border: none;\n",
              "    border-radius: 50%;\n",
              "    cursor: pointer;\n",
              "    display: none;\n",
              "    fill: var(--fill-color);\n",
              "    height: 32px;\n",
              "    padding: 0;\n",
              "    width: 32px;\n",
              "  }\n",
              "\n",
              "  .colab-df-quickchart:hover {\n",
              "    background-color: var(--hover-bg-color);\n",
              "    box-shadow: 0 1px 2px rgba(60, 64, 67, 0.3), 0 1px 3px 1px rgba(60, 64, 67, 0.15);\n",
              "    fill: var(--button-hover-fill-color);\n",
              "  }\n",
              "\n",
              "  .colab-df-quickchart-complete:disabled,\n",
              "  .colab-df-quickchart-complete:disabled:hover {\n",
              "    background-color: var(--disabled-bg-color);\n",
              "    fill: var(--disabled-fill-color);\n",
              "    box-shadow: none;\n",
              "  }\n",
              "\n",
              "  .colab-df-spinner {\n",
              "    border: 2px solid var(--fill-color);\n",
              "    border-color: transparent;\n",
              "    border-bottom-color: var(--fill-color);\n",
              "    animation:\n",
              "      spin 1s steps(1) infinite;\n",
              "  }\n",
              "\n",
              "  @keyframes spin {\n",
              "    0% {\n",
              "      border-color: transparent;\n",
              "      border-bottom-color: var(--fill-color);\n",
              "      border-left-color: var(--fill-color);\n",
              "    }\n",
              "    20% {\n",
              "      border-color: transparent;\n",
              "      border-left-color: var(--fill-color);\n",
              "      border-top-color: var(--fill-color);\n",
              "    }\n",
              "    30% {\n",
              "      border-color: transparent;\n",
              "      border-left-color: var(--fill-color);\n",
              "      border-top-color: var(--fill-color);\n",
              "      border-right-color: var(--fill-color);\n",
              "    }\n",
              "    40% {\n",
              "      border-color: transparent;\n",
              "      border-right-color: var(--fill-color);\n",
              "      border-top-color: var(--fill-color);\n",
              "    }\n",
              "    60% {\n",
              "      border-color: transparent;\n",
              "      border-right-color: var(--fill-color);\n",
              "    }\n",
              "    80% {\n",
              "      border-color: transparent;\n",
              "      border-right-color: var(--fill-color);\n",
              "      border-bottom-color: var(--fill-color);\n",
              "    }\n",
              "    90% {\n",
              "      border-color: transparent;\n",
              "      border-bottom-color: var(--fill-color);\n",
              "    }\n",
              "  }\n",
              "</style>\n",
              "\n",
              "  <script>\n",
              "    async function quickchart(key) {\n",
              "      const quickchartButtonEl =\n",
              "        document.querySelector('#' + key + ' button');\n",
              "      quickchartButtonEl.disabled = true;  // To prevent multiple clicks.\n",
              "      quickchartButtonEl.classList.add('colab-df-spinner');\n",
              "      try {\n",
              "        const charts = await google.colab.kernel.invokeFunction(\n",
              "            'suggestCharts', [key], {});\n",
              "      } catch (error) {\n",
              "        console.error('Error during call to suggestCharts:', error);\n",
              "      }\n",
              "      quickchartButtonEl.classList.remove('colab-df-spinner');\n",
              "      quickchartButtonEl.classList.add('colab-df-quickchart-complete');\n",
              "    }\n",
              "    (() => {\n",
              "      let quickchartButtonEl =\n",
              "        document.querySelector('#df-961da403-30aa-4f37-be0a-9a1dcf56728c button');\n",
              "      quickchartButtonEl.style.display =\n",
              "        google.colab.kernel.accessAllowed ? 'block' : 'none';\n",
              "    })();\n",
              "  </script>\n",
              "</div>\n",
              "\n",
              "    </div>\n",
              "  </div>\n"
            ],
            "application/vnd.google.colaboratory.intrinsic+json": {
              "type": "dataframe",
              "variable_name": "data",
              "summary": "{\n  \"name\": \"data\",\n  \"rows\": 5402,\n  \"fields\": [\n    {\n      \"column\": \"label\",\n      \"properties\": {\n        \"dtype\": \"category\",\n        \"num_unique_values\": 190,\n        \"samples\": [\n          \" and resolved criminal cases against more than 65 companies with penalties and forfeiture of approximately $4.5 billion. \",\n          \" and misdemeanor marijuana possession.\",\n          \" 5+1 talks have begun already for an agreement on trade and economic cooperation between all participants in the process. \"\n        ],\n        \"semantic_type\": \"\",\n        \"description\": \"\"\n      }\n    },\n    {\n      \"column\": \"content\",\n      \"properties\": {\n        \"dtype\": \"category\",\n        \"num_unique_values\": 1747,\n        \"samples\": [\n          \" and not at the forefront of women\\u2019s medicine.   the procedure known as mammography is an outdated scourge that belongs in the history books of failed medical treatments \",\n          \" \\\"Taming the corporate media beast The Crisis of the European Union Is Irreversible  \",\n          \" Trump\\u2019s alt-media critics are doing the job of the MSM  videos and posts that they warned us. Essentially  who on the very next day after Trump won the election went on a tear about how he was planning on staffing his cabinet with insiders. \"\n        ],\n        \"semantic_type\": \"\",\n        \"description\": \"\"\n      }\n    }\n  ]\n}"
            }
          },
          "metadata": {},
          "execution_count": 9
        }
      ]
    },
    {
      "cell_type": "code",
      "source": [
        "data['content'] = data['content'].apply(lambda x: \" \".join(x.lower() for x in x.split()))"
      ],
      "metadata": {
        "id": "jMnA1goUqBg5"
      },
      "execution_count": 10,
      "outputs": []
    },
    {
      "cell_type": "code",
      "source": [
        "data['content'] = data['content'].str.replace('[^\\w\\s]','')"
      ],
      "metadata": {
        "id": "YdhzP7hbqVyb"
      },
      "execution_count": 11,
      "outputs": []
    },
    {
      "cell_type": "code",
      "source": [
        "import nltk\n",
        "nltk.download('stopwords')"
      ],
      "metadata": {
        "colab": {
          "base_uri": "https://localhost:8080/"
        },
        "id": "jQi65lInqls6",
        "outputId": "c6156437-69eb-4771-c3cd-c9c331452245"
      },
      "execution_count": 12,
      "outputs": [
        {
          "output_type": "stream",
          "name": "stderr",
          "text": [
            "[nltk_data] Downloading package stopwords to /root/nltk_data...\n",
            "[nltk_data]   Unzipping corpora/stopwords.zip.\n"
          ]
        },
        {
          "output_type": "execute_result",
          "data": {
            "text/plain": [
              "True"
            ]
          },
          "metadata": {},
          "execution_count": 12
        }
      ]
    },
    {
      "cell_type": "code",
      "source": [
        "from nltk.corpus import stopwords\n",
        "stop = stopwords.words('english')\n",
        "data['content'] = data['content'].apply(lambda x: \" \".join(x for x in x.split() if x not in stop))"
      ],
      "metadata": {
        "id": "hCGp--W-rPn9"
      },
      "execution_count": 13,
      "outputs": []
    },
    {
      "cell_type": "code",
      "source": [
        "!pip install textblob"
      ],
      "metadata": {
        "colab": {
          "base_uri": "https://localhost:8080/"
        },
        "id": "oUJlzv7CsTJ-",
        "outputId": "02787aae-c7bd-4529-96b3-14fea4b226a7"
      },
      "execution_count": 14,
      "outputs": [
        {
          "output_type": "stream",
          "name": "stdout",
          "text": [
            "Requirement already satisfied: textblob in /usr/local/lib/python3.11/dist-packages (0.19.0)\n",
            "Requirement already satisfied: nltk>=3.9 in /usr/local/lib/python3.11/dist-packages (from textblob) (3.9.1)\n",
            "Requirement already satisfied: click in /usr/local/lib/python3.11/dist-packages (from nltk>=3.9->textblob) (8.1.8)\n",
            "Requirement already satisfied: joblib in /usr/local/lib/python3.11/dist-packages (from nltk>=3.9->textblob) (1.4.2)\n",
            "Requirement already satisfied: regex>=2021.8.3 in /usr/local/lib/python3.11/dist-packages (from nltk>=3.9->textblob) (2024.11.6)\n",
            "Requirement already satisfied: tqdm in /usr/local/lib/python3.11/dist-packages (from nltk>=3.9->textblob) (4.67.1)\n"
          ]
        }
      ]
    },
    {
      "source": [
        "import nltk\n",
        "nltk.download('wordnet')"
      ],
      "cell_type": "code",
      "metadata": {
        "colab": {
          "base_uri": "https://localhost:8080/"
        },
        "id": "5kgjQ-Z1uCKL",
        "outputId": "cb1fa93f-c128-4b1f-9a44-2f761035aad1"
      },
      "execution_count": 15,
      "outputs": [
        {
          "output_type": "stream",
          "name": "stderr",
          "text": [
            "[nltk_data] Downloading package wordnet to /root/nltk_data...\n"
          ]
        },
        {
          "output_type": "execute_result",
          "data": {
            "text/plain": [
              "True"
            ]
          },
          "metadata": {},
          "execution_count": 15
        }
      ]
    },
    {
      "cell_type": "code",
      "source": [
        "# Do lemmatization\n",
        "from nltk.stem import WordNetLemmatizer\n",
        "from textblob import Word\n",
        "data['content'] = data['content'].apply(lambda x: \" \".join([Word(word).lemmatize() for word in x.split()]))\n",
        "data['content'].head()"
      ],
      "metadata": {
        "colab": {
          "base_uri": "https://localhost:8080/",
          "height": 449
        },
        "id": "6g0CadRZsXEH",
        "outputId": "7d620310-e773-4c6d-f543-9fb862f1dae0"
      },
      "execution_count": 16,
      "outputs": [
        {
          "output_type": "execute_result",
          "data": {
            "text/plain": [
              "0                                               House Dem Aide: We Didn’t Even See Comey’s Letter Until Jason Chaffetz Tweeted It                                                                                                                                                                                                                                                                                                                    2016 subscribe jason chaffetz stump american f...\n",
              "With apologies to Keith Olbermann                there is no doubt who the Worst Person in The World is this week–FBI Director James Comey. But according to a House Democratic aide                                                                                                                                                                                                                                                                 ranking democrat relevant committee didn’t hea...\n",
              "As we now know                                   Comey notified the Republican chairmen and Democratic ranking members of the House Intelligence                                                                                                                                                                                                                                                                                                     oversight committee chairman jason chaffetz se...\n",
              "— Jason Chaffetz (@jasoninthehouse) October 28   2016                                                                                                                                                                                                                                                                                                                                                                                                                                                 \n",
              "Of course                                        we now know that this was not the case . Comey was actually saying that it was reviewing the emails in light of “an unrelated case”–which we now know to be Anthony Weiner’s sexting with a teenager. But apparently such little things as facts didn’t matter to Chaffetz. The Utah Republican had already vowed to initiate a raft of investigations if Hillary wins–at least two years’ worth                                                     \n",
              "Name: content, dtype: object"
            ],
            "text/html": [
              "<div>\n",
              "<style scoped>\n",
              "    .dataframe tbody tr th:only-of-type {\n",
              "        vertical-align: middle;\n",
              "    }\n",
              "\n",
              "    .dataframe tbody tr th {\n",
              "        vertical-align: top;\n",
              "    }\n",
              "\n",
              "    .dataframe thead th {\n",
              "        text-align: right;\n",
              "    }\n",
              "</style>\n",
              "<table border=\"1\" class=\"dataframe\">\n",
              "  <thead>\n",
              "    <tr style=\"text-align: right;\">\n",
              "      <th></th>\n",
              "      <th></th>\n",
              "      <th>content</th>\n",
              "    </tr>\n",
              "  </thead>\n",
              "  <tbody>\n",
              "    <tr>\n",
              "      <th>0</th>\n",
              "      <th>House Dem Aide: We Didn’t Even See Comey’s Letter Until Jason Chaffetz Tweeted It</th>\n",
              "      <td>2016 subscribe jason chaffetz stump american f...</td>\n",
              "    </tr>\n",
              "    <tr>\n",
              "      <th>With apologies to Keith Olbermann</th>\n",
              "      <th>there is no doubt who the Worst Person in The World is this week–FBI Director James Comey. But according to a House Democratic aide</th>\n",
              "      <td>ranking democrat relevant committee didn’t hea...</td>\n",
              "    </tr>\n",
              "    <tr>\n",
              "      <th>As we now know</th>\n",
              "      <th>Comey notified the Republican chairmen and Democratic ranking members of the House Intelligence</th>\n",
              "      <td>oversight committee chairman jason chaffetz se...</td>\n",
              "    </tr>\n",
              "    <tr>\n",
              "      <th>— Jason Chaffetz (@jasoninthehouse) October 28</th>\n",
              "      <th>2016</th>\n",
              "      <td></td>\n",
              "    </tr>\n",
              "    <tr>\n",
              "      <th>Of course</th>\n",
              "      <th>we now know that this was not the case . Comey was actually saying that it was reviewing the emails in light of “an unrelated case”–which we now know to be Anthony Weiner’s sexting with a teenager. But apparently such little things as facts didn’t matter to Chaffetz. The Utah Republican had already vowed to initiate a raft of investigations if Hillary wins–at least two years’ worth</th>\n",
              "      <td></td>\n",
              "    </tr>\n",
              "  </tbody>\n",
              "</table>\n",
              "</div><br><label><b>dtype:</b> object</label>"
            ]
          },
          "metadata": {},
          "execution_count": 16
        }
      ]
    },
    {
      "cell_type": "code",
      "source": [
        "#separating the data and label\n",
        "X = data[['content']]\n",
        "y = data['label']"
      ],
      "metadata": {
        "id": "KLZ2HTjSuGi4"
      },
      "execution_count": 17,
      "outputs": []
    },
    {
      "cell_type": "code",
      "source": [
        "from sklearn.model_selection import train_test_split"
      ],
      "metadata": {
        "id": "SluHl5pmvyHw"
      },
      "execution_count": 18,
      "outputs": []
    },
    {
      "cell_type": "code",
      "source": [
        "# Check for classes with only one sample\n",
        "class_counts = data['label'].value_counts()\n",
        "rare_classes = class_counts[class_counts == 1].index.tolist()\n",
        "\n",
        "# Print rare classes\n",
        "if rare_classes:\n",
        "    print(\"Classes with only one sample:\", rare_classes)\n",
        "\n",
        "# Option 1: Remove rare classes from the dataset\n",
        "# If you have a large dataset and removing a few samples won't significantly affect your results,\n",
        "# you can remove the samples belonging to rare classes.\n",
        "if rare_classes:\n",
        "    data = data[~data['label'].isin(rare_classes)]\n",
        "# Option 2: Oversample rare classes\n",
        "# If removing rare classes is not desirable, you can oversample them to increase their representation\n",
        "# in the dataset. This can be done using techniques like SMOTE (Synthetic Minority Over-sampling Technique).\n",
        "# !pip install imbalanced-learn\n",
        "# from imblearn.over_sampling import SMOTE\n",
        "# smote = SMOTE(random_state=45)\n",
        "# X_resampled, y_resampled = smote.fit_resample(X, y)\n",
        "\n",
        "# Option 3: Adjust 'stratify' parameter\n",
        "# If you don't want to remove or oversample rare classes, you can remove the 'stratify' parameter\n",
        "# from train_test_split. This will result in a random split, and the class proportions might not be\n",
        "# maintained in the training and test sets.\n",
        "\n",
        "# Proceed with train_"
      ],
      "metadata": {
        "id": "ggiuxG4qvzsH"
      },
      "execution_count": 39,
      "outputs": []
    },
    {
      "cell_type": "code",
      "source": [],
      "metadata": {
        "id": "YcnEizh6Fcvk"
      },
      "execution_count": null,
      "outputs": []
    },
    {
      "cell_type": "code",
      "source": [
        "#validate the shape of train and test dataset\n",
        "print (X_train.shape)\n",
        "print (y_train.shape)\n",
        "print (X_test.shape)\n",
        "print (y_test.shape)"
      ],
      "metadata": {
        "colab": {
          "base_uri": "https://localhost:8080/"
        },
        "id": "uQc0ENEXv1j3",
        "outputId": "766eb5d7-6aaf-4efb-8915-c4d4495c2582"
      },
      "execution_count": 31,
      "outputs": [
        {
          "output_type": "stream",
          "name": "stdout",
          "text": [
            "(3781, 1)\n",
            "(3781,)\n",
            "(1621, 1)\n",
            "(1621,)\n"
          ]
        }
      ]
    },
    {
      "cell_type": "code",
      "source": [
        "from sklearn.feature_extraction.text import TfidfVectorizer"
      ],
      "metadata": {
        "id": "zk0qaiZHwFYh"
      },
      "execution_count": 32,
      "outputs": []
    },
    {
      "cell_type": "code",
      "source": [
        "tfidf_vect = TfidfVectorizer(analyzer='word', token_pattern=r'\\w{1,}', max_features=5000)\n",
        "tfidf_vect.fit(data['content'])\n",
        "xtrain_tfidf = tfidf_vect.transform(X_train['content'])\n",
        "xtest_tfidf = tfidf_vect.transform(X_test['content'])"
      ],
      "metadata": {
        "id": "MR631j05wIBX"
      },
      "execution_count": 33,
      "outputs": []
    },
    {
      "cell_type": "code",
      "source": [
        "from sklearn.linear_model import PassiveAggressiveClassifier\n",
        "from sklearn import metrics\n",
        "pclf = PassiveAggressiveClassifier()\n",
        "pclf.fit(xtrain_tfidf, y_train)\n",
        "predictions = pclf.predict(xtest_tfidf)\n",
        "print(metrics.classification_report(y_test, predictions))\n",
        "\n",
        "\n",
        "\n"
      ],
      "metadata": {
        "colab": {
          "base_uri": "https://localhost:8080/"
        },
        "id": "qtEb8XdRDYkC",
        "outputId": "c62ea6d6-14ce-4a3b-80ee-14c817a0d887"
      },
      "execution_count": 37,
      "outputs": [
        {
          "output_type": "stream",
          "name": "stdout",
          "text": [
            "                                                                                                                                                                                                                                                                                                                                                                     precision    recall  f1-score   support\n",
            "\n",
            "                                                                                                                                                                                                                                                                                                                                                                          0.96      1.00      0.98      1558\n",
            "                                                                                                                                                                                                                                                                                                                         & a trust fund kid former Republican (FL)        0.00      0.00      0.00         1\n",
            "                                                                                                                                                                                                                  2016 / POLITICS / A focus group of 23 people put together by CBS News revealed a frightening look at what America has become – a divided nation.        0.00      0.00      0.00         1\n",
            "                                                                                                                                                                                                                                          5+1 talks have begun already for an agreement on trade and economic cooperation between all participants in the process.        0.00      0.00      0.00         1\n",
            "                                                                                                                                                                                                                                                                                                                                  Commander in Chief Donald Trump.        0.00      0.00      0.00         1\n",
            "                                                                                                                                                                                                                                                                                                                             United States By Andrew KORYBKO (USA)        0.00      0.00      0.00         1\n",
            "                                                                                                                                                                                                                                                                                                     and are one of the fastest-growing groups in federal prisons.        0.00      0.00      0.00         1\n",
            "                                                                                                                                                                                                                                                                                                                                                and brain swelling        0.00      0.00      0.00         1\n",
            "                                                                                                                                                                                                                                                                                                                                 and drown out alternate messages.        0.00      0.00      0.00         1\n",
            "                                                                                                                                                                                               and he cites it as an example of a place where Arabs “were ordered or encouraged by their leaders to flee”—as opposed to them being expelled by the Zionist forces.        0.00      0.00      0.00         1\n",
            "                                                                                                                                                                                                                                                                       and jailing them at will rather than granting them the rights afforded to Israeli citizens.        0.00      0.00      0.00         1\n",
            "                                                                                                                                                                                                                                                                                                                                 and nothing has been decided yet.        0.00      0.00      0.00         1\n",
            "                                                                                                                                                                                                                                                                                          and now we have the first case of HIV that this dreadful ban has caused.        0.00      0.00      0.00         0\n",
            "                                                                                                                                                                                                           and put forward new initiatives and recommendations that will help us find the way to the more prosperous and sustainable future that we all badly need.       0.00      0.00      0.00         1\n",
            "                                                                                                                                                                                                          and put forward new initiatives and recommendations that will help us find the way to the more prosperous and sustainable future that we all badly need.        0.00      0.00      0.00         1\n",
            "                                                                                                                                                                                                   and radio. Appointment to the BBG is like being awarded an ambassador position for the media industry. It’s also why big media carries the same line or themes.        0.00      0.00      0.00         1\n",
            "                                                                                                                                                                                                                                                                                              and the Little Mermaid were all products of Katzenberg’s leadership.        1.00      1.00      1.00         1\n",
            "                                                                                                                                                                                                                                                                                                                      and they don’t want them to breed anymore? ”        0.00      0.00      0.00         0\n",
            "                                                                                                                                                                                                                                            and to our advantage. There will certainly be considerable changes in the demographic composition of the country. [86]        0.00      0.00      0.00         0\n",
            " and traffic and planted bombs and mines along urban and rural paths and roads.” He describes “several days of sniping and Haganah responses in kind”—a typical example of how he characterizes the Haganah’s violence as occurring in self-defense or as retaliation for earlier Arab attacks he identifies as having initiated any given round of fighting. [63]        0.00      0.00      0.00         1\n",
            "                                                                                                                                                                                                                                                                                           and which he documents extensively in his own writings—was not a crime.        0.00      0.00      0.00         1\n",
            "                                                                                                                                                                                                                                                                                                                                    are backing her — and the TPP.        0.00      0.00      0.00         2\n",
            "                                                                                                                                                                                                                                                                                                             as Clinton lost Michigan by roughly half that number.        0.00      0.00      0.00         1\n",
            "                                                                                                                                                                                                                                                                                                                            as is the MPAA’s political foundation.        0.00      0.00      0.00         2\n",
            "                                                                                                                                                                                                                                                                                          as they know they are above the laws for mere mortal humans. Linda Brown        0.00      0.00      0.00         1\n",
            "                                                                                                                                                                                                                                                                                                                    available under a Creative Commons-BY license)        0.00      0.00      0.00         0\n",
            "                                                                              being able to buy millions-of-dollars of his company’s stocks prior to the public being told his JP Morgan bank was receiving a Federal Reserve $80 billion credit line—and that caused JP Morgan’s stocks to soar and that have had an astonishing 920% dividend growth since 2010.        0.00      0.00      0.00         1\n",
            "                                                                                                                                                                               but the other nationalities which are now under Turkish rule should be assured an undoubted security of life and absolutely unmolested opportunity of autonomous development.” [39]        0.00      0.00      0.00         1\n",
            "                                                                                                                                                                                                                                                                                                                                             do something about it        0.00      0.00      0.00         1\n",
            "                                                                                                                                                                                                                                                                                                                                                        feminism).        0.00      0.00      0.00         1\n",
            "                                                                                                                                                                                                                                                                                                         guidano la costruzione del sistema monetario multipolare.        0.00      0.00      0.00         1\n",
            "                                                                                                                                                                                                                                                                                      in a nod to the sixteen elements discovered at Berkeley Lab and UC Berkeley.        0.00      0.00      0.00         1\n",
            "                                                                                                                                                                                                                                                                                                                indicating a 170-person increase compared to 2015.        0.00      0.00      0.00         1\n",
            "                                                                                                                                                                                                                                                                                                                                                       is a given.        0.00      0.00      0.00         1\n",
            "                                                                                                                                                                                                                                                                      is that true? Or did it just slow it down? What will a Trump presidency mean in that sense?”        0.00      0.00      0.00         1\n",
            "                                                                                                                                                                               it was the shift from sporadic attacks and counter-attacks on the Palestinian civilian population towards the systematic mega-operation of ethnic cleansing that now followed. [70]        0.00      0.00      0.00         0\n",
            "                                                                                                                                              le ha tirado un vaso de agua a la cara a Rajoy y ha fingido un desmayo. Fuentes del Congreso aseguran que Hernando ha guiñado el ojo a Rajoy en un par de ocasiones para tranquilizar al candidato a la presidencia.        0.00      0.00      0.00         1\n",
            "                                                                                                                                                                                                                                                                              los reencuentros merecen la pena no tanto por la ilusión “como por lo que se cobra”.        0.00      0.00      0.00         1\n",
            "                                                                                                                                                                                                                                                                                                                                        moralistic mental midgets.        0.00      0.00      0.00         1\n",
            "                                                                                                                                                                                                                                                                                     or the job they worked at…. They were not satisfied with anything or anybody…        0.00      0.00      0.00         1\n",
            "                                                                                                                                                                 per coprire i deficit gemelli (commercio e bilancio); cioè per il dipartimento del Tesoro è questione di vita o di morte vendere titoli di debito nel mondo e così finanziare le spese degli USA.        0.00      0.00      0.00         1\n",
            "                                                                                                                                                                                                                                                                                                                                                       per person.        0.00      0.00      0.00         1\n",
            "                                                                                                                                                                                                                                                                                                                                              serves on the board.        1.00      1.00      1.00         1\n",
            "                                                                                                                                                                                                                                            shared its erroneous data on conservative opponents of the Obama administration with federal law enforcement agencies.        0.00      0.00      0.00         1\n",
            "                                                                                                                                                                                                                                                                                                                                               signifying nothing.        0.00      0.00      0.00         1\n",
            "                                                                                                                                                                                                                                                                                                                  so we decided to implement exception handling.\"\"        0.00      0.00      0.00         1\n",
            "                                                                                                                                                                     the index stood 20 percent higher than its average during the 1990s. There is no way to explain this other than by realizing that commodities had become scarcer than in the previous decade.        0.00      0.00      0.00         1\n",
            "                                                                                                                                                                                                                                                            the interest of foreigners are prioritized over the majority of people who are impoverished in Haiti.”        0.00      0.00      0.00         1\n",
            "                                                                                                                                                                                                                                                                                                                                                   the report said.       0.00      0.00      0.00         1\n",
            "                                                                                                                                                                                                                                                       they are getting quite a bit of very friendly publicity as a form of reaction to the rise of the Alt-Right.        0.00      0.00      0.00         1\n",
            "                                                                                                                                                                                                                                                                                             to be civically engaged to create a better world for our communities.        0.00      0.00      0.00         1\n",
            "                                                                                                                                                                                                                              we are living in a moment when Native water protectors and water warriors have more than earned both acknowledgement and solidarity.        0.00      0.00      0.00         0\n",
            "                                                                                                                                                                                                                                                                                                                             we feel the need to say a few things.        0.00      0.00      0.00         1\n",
            "                                                                                                                                                                                         while denying it any employment in our own country. Both the process of expropriation and the removal of the poor must be carried out discreetly and circumspectly.” [11]        0.00      0.00      0.00         1\n",
            "                                                                                                                                                                                                                               will overtake the culture and risk destroying the very culture that makes it presently so inviting for those seeking a better life.        0.00      0.00      0.00         1\n",
            "                                                                                                                                                                                                                                                                                                                      your dreams will be coming true before long.        0.00      0.00      0.00         1\n",
            "                                                                                                                                                                                                                                                                                                         вложенную в планшет со словами: \"\"Я ушла познавать мир\"\".        0.00      0.00      0.00         1\n",
            "                                                                                                                                                                                                                                                                                                                                                  сообщает портал.        0.00      0.00      0.00         1\n",
            "                                                                                                                                                                                                                                                                  “when he attributed to me things I have never claimed and distorted the events of the 1948 war.”        0.00      0.00      0.00         1\n",
            "                                                                                                                                                                                                                                                                                                              000 his or her subsidy would be significantly lower.        0.00      0.00      0.00         1\n",
            "                                                                                                                                                                                                                                                                                                      000 in perpetual balance with nature.” ~ Georgia Guidestones        0.00      0.00      0.00         0\n",
            "                                                                                                                                                                                                                                                                                000 pertinent to Hillary’s case. Things aren’t looking so good for Hillary Clinton        0.00      0.00      0.00         1\n",
            "                                                                                                                                                                                                                                                                                                                                                                  1       0.00      0.00      0.00         7\n",
            "\n",
            "                                                                                                                                                                                                                                                                                                                                                           accuracy                           0.96      1621\n",
            "                                                                                                                                                                                                                                                                                                                                                          macro avg       0.05      0.05      0.05      1621\n",
            "                                                                                                                                                                                                                                                                                                                                                       weighted avg       0.93      0.96      0.94      1621\n",
            "\n"
          ]
        },
        {
          "output_type": "stream",
          "name": "stderr",
          "text": [
            "/usr/local/lib/python3.11/dist-packages/sklearn/metrics/_classification.py:1565: UndefinedMetricWarning: Precision is ill-defined and being set to 0.0 in labels with no predicted samples. Use `zero_division` parameter to control this behavior.\n",
            "  _warn_prf(average, modifier, f\"{metric.capitalize()} is\", len(result))\n",
            "/usr/local/lib/python3.11/dist-packages/sklearn/metrics/_classification.py:1565: UndefinedMetricWarning: Recall is ill-defined and being set to 0.0 in labels with no true samples. Use `zero_division` parameter to control this behavior.\n",
            "  _warn_prf(average, modifier, f\"{metric.capitalize()} is\", len(result))\n",
            "/usr/local/lib/python3.11/dist-packages/sklearn/metrics/_classification.py:1565: UndefinedMetricWarning: Precision is ill-defined and being set to 0.0 in labels with no predicted samples. Use `zero_division` parameter to control this behavior.\n",
            "  _warn_prf(average, modifier, f\"{metric.capitalize()} is\", len(result))\n",
            "/usr/local/lib/python3.11/dist-packages/sklearn/metrics/_classification.py:1565: UndefinedMetricWarning: Recall is ill-defined and being set to 0.0 in labels with no true samples. Use `zero_division` parameter to control this behavior.\n",
            "  _warn_prf(average, modifier, f\"{metric.capitalize()} is\", len(result))\n",
            "/usr/local/lib/python3.11/dist-packages/sklearn/metrics/_classification.py:1565: UndefinedMetricWarning: Precision is ill-defined and being set to 0.0 in labels with no predicted samples. Use `zero_division` parameter to control this behavior.\n",
            "  _warn_prf(average, modifier, f\"{metric.capitalize()} is\", len(result))\n",
            "/usr/local/lib/python3.11/dist-packages/sklearn/metrics/_classification.py:1565: UndefinedMetricWarning: Recall is ill-defined and being set to 0.0 in labels with no true samples. Use `zero_division` parameter to control this behavior.\n",
            "  _warn_prf(average, modifier, f\"{metric.capitalize()} is\", len(result))\n"
          ]
        }
      ]
    },
    {
      "cell_type": "code",
      "source": [
        "from sklearn.feature_extraction.text import TfidfVectorizer"
      ],
      "metadata": {
        "id": "VxahObohEqFh"
      },
      "execution_count": 40,
      "outputs": []
    },
    {
      "cell_type": "code",
      "source": [
        "tfidf_vect = TfidfVectorizer(analyzer='word', token_pattern=r'\\w{1,}', max_features=5000)\n",
        "tfidf_vect.fit(data['content'])\n",
        "xtrain_tfidf = tfidf_vect.transform(X_train['content'])\n",
        "xtest_tfidf = tfidf_vect.transform(X_test['content'])"
      ],
      "metadata": {
        "id": "ug8n6TrRFdy-"
      },
      "execution_count": 41,
      "outputs": []
    },
    {
      "cell_type": "code",
      "source": [
        "print(metrics.confusion_matrix(y_test,predictions))"
      ],
      "metadata": {
        "colab": {
          "base_uri": "https://localhost:8080/"
        },
        "id": "IWt2a3KyFgi-",
        "outputId": "0f496ae4-ce8d-4f80-de41-bf2795f78cd1"
      },
      "execution_count": 42,
      "outputs": [
        {
          "output_type": "stream",
          "name": "stdout",
          "text": [
            "[[1553    0    0 ...    1    0    0]\n",
            " [   1    0    0 ...    0    0    0]\n",
            " [   1    0    0 ...    0    0    0]\n",
            " ...\n",
            " [   0    0    0 ...    0    0    0]\n",
            " [   1    0    0 ...    0    0    0]\n",
            " [   7    0    0 ...    0    0    0]]\n"
          ]
        }
      ]
    },
    {
      "cell_type": "code",
      "source": [
        "from sklearn.neural_network import MLPClassifier\n",
        "mlpclf = MLPClassifier(hidden_layer_sizes=(256,64,16),\n",
        "                       activation = 'relu',\n",
        "                       solver = 'adam')\n",
        "mlpclf.fit(xtrain_tfidf, y_train)\n",
        "predictions = mlpclf.predict(xtest_tfidf)\n",
        "print(metrics.classification_report(y_test, predictions))"
      ],
      "metadata": {
        "colab": {
          "base_uri": "https://localhost:8080/"
        },
        "id": "kcjWp6PlFlI-",
        "outputId": "a1813313-cf68-420f-f6fa-1d334f38390f"
      },
      "execution_count": 44,
      "outputs": [
        {
          "output_type": "stream",
          "name": "stdout",
          "text": [
            "                                                                                                                                                                                                                                                                                                                                                                     precision    recall  f1-score   support\n",
            "\n",
            "                                                                                                                                                                                                                                                                                                                                                                          0.97      0.97      0.97      1558\n",
            "                                                                                                                                                                                                                                                                                                                         & a trust fund kid former Republican (FL)        0.00      0.00      0.00         1\n",
            "                                                                                                                                                                                                                  2016 / POLITICS / A focus group of 23 people put together by CBS News revealed a frightening look at what America has become – a divided nation.        0.00      0.00      0.00         1\n",
            "                                                                                                                                                                                                                                                                                                                                                   2016 at 6:09 pm        0.00      0.00      0.00         0\n",
            "                                                                                                                                                                                                                                          5+1 talks have begun already for an agreement on trade and economic cooperation between all participants in the process.        0.00      0.00      0.00         1\n",
            "                                                                                                                                                                                                                                                                                                                                  Commander in Chief Donald Trump.        0.00      0.00      0.00         1\n",
            "                                                                                                                                                                                                                                                                                                                               LGBT Americans and Asian Americans.        0.00      0.00      0.00         0\n",
            "                                                                                                                                                                                                                                                                                                         RBTH Daily Bella Devyatkina Source: Rossia One TV Channel        0.00      0.00      0.00         0\n",
            "                                                                                                                                                                                                                                                                                                                             United States By Andrew KORYBKO (USA)        0.00      0.00      0.00         1\n",
            "                                                                                                                                                                                                                                                                                                     and are one of the fastest-growing groups in federal prisons.        0.00      0.00      0.00         1\n",
            "                                                                                                                                                                                                                                                                                                                                                and brain swelling        0.00      0.00      0.00         1\n",
            "                                                                                                                                                                                                                                                                                                                                 and drown out alternate messages.        0.00      0.00      0.00         1\n",
            "                                                                                                                                                                                               and he cites it as an example of a place where Arabs “were ordered or encouraged by their leaders to flee”—as opposed to them being expelled by the Zionist forces.        0.00      0.00      0.00         1\n",
            "                                                                                                                                                                                                                                                                       and jailing them at will rather than granting them the rights afforded to Israeli citizens.        0.00      0.00      0.00         1\n",
            "                                                                                                                                                                                                                                                                                                                                 and nothing has been decided yet.        0.00      0.00      0.00         1\n",
            "                                                                                                                                                                                                           and put forward new initiatives and recommendations that will help us find the way to the more prosperous and sustainable future that we all badly need.       0.00      0.00      0.00         1\n",
            "                                                                                                                                                                                                          and put forward new initiatives and recommendations that will help us find the way to the more prosperous and sustainable future that we all badly need.        0.00      0.00      0.00         1\n",
            "                                                                                                                                                                                                   and radio. Appointment to the BBG is like being awarded an ambassador position for the media industry. It’s also why big media carries the same line or themes.        0.00      0.00      0.00         1\n",
            "                                                                                                                                                                                                                                                                                              and the Little Mermaid were all products of Katzenberg’s leadership.        1.00      1.00      1.00         1\n",
            "                                                                                                                                                                                                                                                                                                                      and they don’t want them to breed anymore? ”        0.00      0.00      0.00         0\n",
            " and traffic and planted bombs and mines along urban and rural paths and roads.” He describes “several days of sniping and Haganah responses in kind”—a typical example of how he characterizes the Haganah’s violence as occurring in self-defense or as retaliation for earlier Arab attacks he identifies as having initiated any given round of fighting. [63]        0.00      0.00      0.00         1\n",
            "                                                                                                                                                                                                                                                                                           and which he documents extensively in his own writings—was not a crime.        0.00      0.00      0.00         1\n",
            "                                                                                                                                                                                                                                                                                                                                    are backing her — and the TPP.        0.00      0.00      0.00         2\n",
            "                                                                                                                                                                                                                                                                                                             as Clinton lost Michigan by roughly half that number.        0.00      0.00      0.00         1\n",
            "                                                                                                                                                                                                                                                                                                                            as is the MPAA’s political foundation.        0.00      0.00      0.00         2\n",
            "                                                                                                                                                                                                                                                                                          as they know they are above the laws for mere mortal humans. Linda Brown        0.00      0.00      0.00         1\n",
            "                                                                              being able to buy millions-of-dollars of his company’s stocks prior to the public being told his JP Morgan bank was receiving a Federal Reserve $80 billion credit line—and that caused JP Morgan’s stocks to soar and that have had an astonishing 920% dividend growth since 2010.        0.00      0.00      0.00         1\n",
            "                                                                                                                                                                                                                                                                   but a Jewish predominance as soon as the numbers of that race are sufficiently increased.” [27]        0.00      0.00      0.00         0\n",
            "                                                                                                                                                                               but the other nationalities which are now under Turkish rule should be assured an undoubted security of life and absolutely unmolested opportunity of autonomous development.” [39]        0.00      0.00      0.00         1\n",
            "                                                                                                                                                                                                                                                                                                                                             do something about it        0.00      0.00      0.00         1\n",
            "                                                                                                                                                                                                                                                                                                                                                 en su oportunidad.       0.00      0.00      0.00         0\n",
            "                                                                                                                                                                                                                                                                                                                                                        feminism).        0.00      0.00      0.00         1\n",
            "                                                                                                                                                                                                                                                                                                         guidano la costruzione del sistema monetario multipolare.        0.00      0.00      0.00         1\n",
            "                                                                                                                                                                                                                                                                                      in a nod to the sixteen elements discovered at Berkeley Lab and UC Berkeley.        0.00      0.00      0.00         1\n",
            "                                                                                                                                                                                                                                                                                                                indicating a 170-person increase compared to 2015.        0.00      0.00      0.00         1\n",
            "                                                                                                                                                                                                                                                                                                                                                       is a given.        0.00      0.00      0.00         1\n",
            "                                                                                                                                                                                                                                                                      is that true? Or did it just slow it down? What will a Trump presidency mean in that sense?”        0.00      0.00      0.00         1\n",
            "                                                                                                                                                                                                                                                                                                     is there anyone more inspiring than Michelle Obama?” —Hillary        0.00      0.00      0.00         0\n",
            "                                                                                                                                              le ha tirado un vaso de agua a la cara a Rajoy y ha fingido un desmayo. Fuentes del Congreso aseguran que Hernando ha guiñado el ojo a Rajoy en un par de ocasiones para tranquilizar al candidato a la presidencia.        0.00      0.00      0.00         1\n",
            "                                                                                                                                                                                                                                                                              los reencuentros merecen la pena no tanto por la ilusión “como por lo que se cobra”.        0.00      0.00      0.00         1\n",
            "                                                                                                                                                                                                                                                                                                                                        moralistic mental midgets.        0.00      0.00      0.00         1\n",
            "                                                                                                                                                                                                 neither the fact that some Arabs were allowed to remain nor that many fled out of fear is inconsistent with the recognition of what happened as ethnic cleansing.        0.00      0.00      0.00         0\n",
            "                                                                                                                                                                                                                                                                                     or the job they worked at…. They were not satisfied with anything or anybody…        0.00      0.00      0.00         1\n",
            "                                                                                                                                                                 per coprire i deficit gemelli (commercio e bilancio); cioè per il dipartimento del Tesoro è questione di vita o di morte vendere titoli di debito nel mondo e così finanziare le spese degli USA.        0.00      0.00      0.00         1\n",
            "                                                                                                                                                                                                                                                                                                                                                       per person.        0.00      0.00      0.00         1\n",
            "                                                                                                                                                                                                                                                                                                                                              serves on the board.        1.00      1.00      1.00         1\n",
            "                                                                                                                                                                                                                                            shared its erroneous data on conservative opponents of the Obama administration with federal law enforcement agencies.        0.00      0.00      0.00         1\n",
            "                                                                                                                                                                                                                                                                                                                                               signifying nothing.        0.00      0.00      0.00         1\n",
            "                                                                                                                                                                                                                                                                                                                  so we decided to implement exception handling.\"\"        0.00      0.00      0.00         1\n",
            "                                                                                                                                                                     the index stood 20 percent higher than its average during the 1990s. There is no way to explain this other than by realizing that commodities had become scarcer than in the previous decade.        0.00      0.00      0.00         1\n",
            "                                                                                                                                                                                                                                                            the interest of foreigners are prioritized over the majority of people who are impoverished in Haiti.”        0.00      0.00      0.00         1\n",
            "                                                                                                                                                                                                                                                                                                                                                   the report said.       0.00      0.00      0.00         1\n",
            "                                                                  there’s still a strong likelihood that at least some of the investigated possibilities will eventually occur to varying extents and that the geopolitical repercussions will indisputably impact quite negatively on China and the larger multipolar world’s grand position in the New Cold War.        0.00      0.00      0.00         0\n",
            "                                                                                                                                                                                                                                                       they are getting quite a bit of very friendly publicity as a form of reaction to the rise of the Alt-Right.        0.00      0.00      0.00         1\n",
            "                                                                                                                                                                                                                                                                                             to be civically engaged to create a better world for our communities.        0.00      0.00      0.00         1\n",
            "                                                                                                                                                                     unless they are tripped up on the closely related issues of race (failure to “stand up” to the Blacks) and foreign policy (failure to “stand up” to whoever is the designated foreign enemy).        0.00      0.00      0.00         0\n",
            "                                                                                                                                                                                                                                                                                                               was everything hit on every level and every aspect.        0.00      0.00      0.00         0\n",
            "                                                                                                                                                                                                                                                                                                                             we feel the need to say a few things.        0.00      0.00      0.00         1\n",
            "                                                                                                                                                                                         while denying it any employment in our own country. Both the process of expropriation and the removal of the poor must be carried out discreetly and circumspectly.” [11]        0.00      0.00      0.00         1\n",
            "                                                                                                                                                                                                                               will overtake the culture and risk destroying the very culture that makes it presently so inviting for those seeking a better life.        0.00      0.00      0.00         1\n",
            "                                                                                                                                                                                                                                          would also be over-diagnosed for a non-malignant form of cancer that never even would have become “clinically apparent.”        0.00      0.00      0.00         0\n",
            "                                                                                                                                                                                                                                                                                                                      your dreams will be coming true before long.        0.00      0.00      0.00         1\n",
            "                                                                                                                                                                                                                                                                                                         вложенную в планшет со словами: \"\"Я ушла познавать мир\"\".        0.00      0.00      0.00         1\n",
            "                                                                                                                                                                                                                                                                                                                 сами они легко считывают информацию с лиц хозяев.        0.00      0.00      0.00         0\n",
            "                                                                                                                                                                                                                                                                                                                                                  сообщает портал.        0.00      0.00      0.00         1\n",
            "                                                                                                                                                                                                                                                                  “when he attributed to me things I have never claimed and distorted the events of the 1948 war.”        0.00      0.00      0.00         1\n",
            "                                                                                                                                                                                                                                                                                                              000 his or her subsidy would be significantly lower.        0.00      0.00      0.00         1\n",
            "                                                                                                                                                                                                                                                                                                      000 in perpetual balance with nature.” ~ Georgia Guidestones        0.00      0.00      0.00         0\n",
            "                                                                                                                                                                                                                                                                                000 pertinent to Hillary’s case. Things aren’t looking so good for Hillary Clinton        0.00      0.00      0.00         1\n",
            "                                                                                                                                                                                                                                                                                                                                                                  1       0.00      0.00      0.00         7\n",
            "                                                                                                                                                                                                                                                                                                                                                 ” Mikhail argued.        0.00      0.00      0.00         0\n",
            "\n",
            "                                                                                                                                                                                                                                                                                                                                                           accuracy                           0.94      1621\n",
            "                                                                                                                                                                                                                                                                                                                                                          macro avg       0.04      0.04      0.04      1621\n",
            "                                                                                                                                                                                                                                                                                                                                                       weighted avg       0.93      0.94      0.93      1621\n",
            "\n"
          ]
        },
        {
          "output_type": "stream",
          "name": "stderr",
          "text": [
            "/usr/local/lib/python3.11/dist-packages/sklearn/metrics/_classification.py:1565: UndefinedMetricWarning: Precision is ill-defined and being set to 0.0 in labels with no predicted samples. Use `zero_division` parameter to control this behavior.\n",
            "  _warn_prf(average, modifier, f\"{metric.capitalize()} is\", len(result))\n",
            "/usr/local/lib/python3.11/dist-packages/sklearn/metrics/_classification.py:1565: UndefinedMetricWarning: Recall is ill-defined and being set to 0.0 in labels with no true samples. Use `zero_division` parameter to control this behavior.\n",
            "  _warn_prf(average, modifier, f\"{metric.capitalize()} is\", len(result))\n",
            "/usr/local/lib/python3.11/dist-packages/sklearn/metrics/_classification.py:1565: UndefinedMetricWarning: Precision is ill-defined and being set to 0.0 in labels with no predicted samples. Use `zero_division` parameter to control this behavior.\n",
            "  _warn_prf(average, modifier, f\"{metric.capitalize()} is\", len(result))\n",
            "/usr/local/lib/python3.11/dist-packages/sklearn/metrics/_classification.py:1565: UndefinedMetricWarning: Recall is ill-defined and being set to 0.0 in labels with no true samples. Use `zero_division` parameter to control this behavior.\n",
            "  _warn_prf(average, modifier, f\"{metric.capitalize()} is\", len(result))\n",
            "/usr/local/lib/python3.11/dist-packages/sklearn/metrics/_classification.py:1565: UndefinedMetricWarning: Precision is ill-defined and being set to 0.0 in labels with no predicted samples. Use `zero_division` parameter to control this behavior.\n",
            "  _warn_prf(average, modifier, f\"{metric.capitalize()} is\", len(result))\n",
            "/usr/local/lib/python3.11/dist-packages/sklearn/metrics/_classification.py:1565: UndefinedMetricWarning: Recall is ill-defined and being set to 0.0 in labels with no true samples. Use `zero_division` parameter to control this behavior.\n",
            "  _warn_prf(average, modifier, f\"{metric.capitalize()} is\", len(result))\n"
          ]
        }
      ]
    },
    {
      "cell_type": "code",
      "source": [
        "print(metrics.confusion_matrix(y_test,predictions))"
      ],
      "metadata": {
        "colab": {
          "base_uri": "https://localhost:8080/"
        },
        "id": "5I3Cjr2FHsnL",
        "outputId": "5278b738-1686-4972-b3c9-43e54ef1afaf"
      },
      "execution_count": 45,
      "outputs": [
        {
          "output_type": "stream",
          "name": "stdout",
          "text": [
            "[[1518    0    0 ...    0    1    1]\n",
            " [   1    0    0 ...    0    0    0]\n",
            " [   1    0    0 ...    0    0    0]\n",
            " ...\n",
            " [   1    0    0 ...    0    0    0]\n",
            " [   7    0    0 ...    0    0    0]\n",
            " [   0    0    0 ...    0    0    0]]\n"
          ]
        }
      ]
    },
    {
      "cell_type": "code",
      "source": [
        "import pickle\n",
        "# Save trained model to file\n",
        "pickle.dump(mlpclf, open(\"fakenews1.pkl\", \"wb\"))"
      ],
      "metadata": {
        "id": "JW2dVG6MIhQg"
      },
      "execution_count": 46,
      "outputs": []
    },
    {
      "cell_type": "code",
      "source": [],
      "metadata": {
        "id": "5oE3xGd-JMji"
      },
      "execution_count": null,
      "outputs": []
    }
  ]
}