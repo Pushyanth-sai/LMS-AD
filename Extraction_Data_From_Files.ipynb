{
  "nbformat": 4,
  "nbformat_minor": 0,
  "metadata": {
    "colab": {
      "provenance": [],
      "authorship_tag": "ABX9TyPQj33y6KFGqQ47Om6regFK",
      "include_colab_link": true
    },
    "kernelspec": {
      "name": "python3",
      "display_name": "Python 3"
    },
    "language_info": {
      "name": "python"
    }
  },
  "cells": [
    {
      "cell_type": "markdown",
      "metadata": {
        "id": "view-in-github",
        "colab_type": "text"
      },
      "source": [
        "<a href=\"https://colab.research.google.com/github/Pushyanth-sai/LMS-AD/blob/main/Extraction_Data_From_Files.ipynb\" target=\"_parent\"><img src=\"https://colab.research.google.com/assets/colab-badge.svg\" alt=\"Open In Colab\"/></a>"
      ]
    },
    {
      "cell_type": "code",
      "execution_count": 1,
      "metadata": {
        "colab": {
          "base_uri": "https://localhost:8080/"
        },
        "id": "ffNj3ZEQtgvH",
        "outputId": "d1997b35-dfb0-4bc9-9c85-2b28b205cc44"
      },
      "outputs": [
        {
          "output_type": "stream",
          "name": "stdout",
          "text": [
            "Collecting python-docx\n",
            "  Downloading python_docx-1.1.2-py3-none-any.whl.metadata (2.0 kB)\n",
            "Requirement already satisfied: lxml>=3.1.0 in /usr/local/lib/python3.11/dist-packages (from python-docx) (5.3.0)\n",
            "Requirement already satisfied: typing-extensions>=4.9.0 in /usr/local/lib/python3.11/dist-packages (from python-docx) (4.12.2)\n",
            "Downloading python_docx-1.1.2-py3-none-any.whl (244 kB)\n",
            "\u001b[2K   \u001b[90m━━━━━━━━━━━━━━━━━━━━━━━━━━━━━━━━━━━━━━━━\u001b[0m \u001b[32m244.3/244.3 kB\u001b[0m \u001b[31m3.9 MB/s\u001b[0m eta \u001b[36m0:00:00\u001b[0m\n",
            "\u001b[?25hInstalling collected packages: python-docx\n",
            "Successfully installed python-docx-1.1.2\n"
          ]
        }
      ],
      "source": [
        "# install docx library\n",
        "!pip install python-docx"
      ]
    },
    {
      "cell_type": "code",
      "source": [
        "#Import library\n",
        "import docx"
      ],
      "metadata": {
        "id": "LPljXf9dtxO1"
      },
      "execution_count": 2,
      "outputs": []
    },
    {
      "cell_type": "code",
      "source": [
        "#Creating a word file object\n",
        "doc = open(\"/content/cover pg.docx\",\"rb\")\n",
        "#creating word reader object\n",
        "document = docx.Document(doc)"
      ],
      "metadata": {
        "id": "FY1-ixV8t9_F"
      },
      "execution_count": 4,
      "outputs": []
    },
    {
      "cell_type": "code",
      "source": [
        "docu=\"\"\n",
        "for para in document.paragraphs:\n",
        "    docu += para.text\n",
        "#to see the output call docu\n",
        "print(docu)"
      ],
      "metadata": {
        "colab": {
          "base_uri": "https://localhost:8080/"
        },
        "id": "KAcHEl-vuBOJ",
        "outputId": "6c5198b9-a64e-493e-e6c4-9a2acde620f3"
      },
      "execution_count": 6,
      "outputs": [
        {
          "output_type": "stream",
          "name": "stdout",
          "text": [
            "INTEGRATING ROAD LINE DETECTION WITH NAVIGATION SYSTEMS FOR ENHANCED AUTONOMOUS DRIVINGA project report submitted to MALLA REDDY UNIVERSITYin partial fulfillment of the requirements for the award of degree ofBACHELOR OF TECHNOLGYinCOMPUTER SCIENCE & ENGINEERING (AI & ML)Submitted byK. SRI CHAKRINI\t:2211CS020216K. LAXMI NARSIMHA\t:2211CS020218KADAM SOWMYA\t:2211CS020219KADIYALA PUSHYANTH SAI\t:2211CS020220KALLEM SHESHMA\t:2211CS020222KAMAL PANDE\t:2211CS020225Under the Guidance ofMANASAProfessorDEPARTMENT OF COMPUTER SCIENCE & ENGINEERING (AI & ML)2024\n"
          ]
        }
      ]
    },
    {
      "cell_type": "code",
      "source": [
        "#  output paragraph number and paragraph content\n",
        "for i in range(len(document.paragraphs)):\n",
        "    print(\"The content of the paragraph \"+ str(i)+\" is ：\" + document.paragraphs[i].text+\"\\n\")"
      ],
      "metadata": {
        "colab": {
          "base_uri": "https://localhost:8080/"
        },
        "id": "uqs8vnNsvYvG",
        "outputId": "cc9bb28b-0803-4424-95cd-23426080c65d"
      },
      "execution_count": 7,
      "outputs": [
        {
          "output_type": "stream",
          "name": "stdout",
          "text": [
            "The content of the paragraph 0 is ：INTEGRATING ROAD LINE DETECTION WITH NAVIGATION SYSTEMS FOR ENHANCED AUTONOMOUS DRIVING\n",
            "\n",
            "The content of the paragraph 1 is ：\n",
            "\n",
            "The content of the paragraph 2 is ：A project report submitted to MALLA REDDY UNIVERSITY\n",
            "\n",
            "The content of the paragraph 3 is ：in partial fulfillment of the requirements for the award of degree of\n",
            "\n",
            "The content of the paragraph 4 is ：\n",
            "\n",
            "The content of the paragraph 5 is ：\n",
            "\n",
            "The content of the paragraph 6 is ：\n",
            "\n",
            "The content of the paragraph 7 is ：BACHELOR OF TECHNOLGY\n",
            "\n",
            "The content of the paragraph 8 is ：in\n",
            "\n",
            "The content of the paragraph 9 is ：COMPUTER SCIENCE & ENGINEERING (AI & ML)\n",
            "\n",
            "The content of the paragraph 10 is ：\n",
            "\n",
            "The content of the paragraph 11 is ：\n",
            "\n",
            "The content of the paragraph 12 is ：Submitted by\n",
            "\n",
            "The content of the paragraph 13 is ：\n",
            "\n",
            "The content of the paragraph 14 is ：\n",
            "\n",
            "The content of the paragraph 15 is ：\n",
            "\n",
            "The content of the paragraph 16 is ：K. SRI CHAKRINI\t:2211CS020216\n",
            "\n",
            "The content of the paragraph 17 is ：K. LAXMI NARSIMHA\t:2211CS020218\n",
            "\n",
            "The content of the paragraph 18 is ：KADAM SOWMYA\t:2211CS020219\n",
            "\n",
            "The content of the paragraph 19 is ：KADIYALA PUSHYANTH SAI\t:2211CS020220\n",
            "\n",
            "The content of the paragraph 20 is ：KALLEM SHESHMA\t:2211CS020222\n",
            "\n",
            "The content of the paragraph 21 is ：KAMAL PANDE\t:2211CS020225\n",
            "\n",
            "The content of the paragraph 22 is ：\n",
            "\n",
            "The content of the paragraph 23 is ：\n",
            "\n",
            "The content of the paragraph 24 is ：Under the Guidance of\n",
            "\n",
            "The content of the paragraph 25 is ：\n",
            "\n",
            "The content of the paragraph 26 is ：\n",
            "\n",
            "The content of the paragraph 27 is ：MANASA\n",
            "\n",
            "The content of the paragraph 28 is ：Professor\n",
            "\n",
            "The content of the paragraph 29 is ：\n",
            "\n",
            "The content of the paragraph 30 is ：\n",
            "\n",
            "The content of the paragraph 31 is ：DEPARTMENT OF COMPUTER SCIENCE & ENGINEERING (AI & ML)\n",
            "\n",
            "The content of the paragraph 32 is ：2024\n",
            "\n"
          ]
        }
      ]
    },
    {
      "cell_type": "code",
      "source": [
        "import urllib.request as urllib2\n",
        "from bs4 import BeautifulSoup"
      ],
      "metadata": {
        "id": "YnPmhAVmve7z"
      },
      "execution_count": 8,
      "outputs": []
    },
    {
      "cell_type": "code",
      "source": [
        "response = urllib2.urlopen('https://en.wikipedia.org/wiki/Natural_language_processing')\n",
        "html_doc = response.read()"
      ],
      "metadata": {
        "id": "BBcIiI3Xvhuq"
      },
      "execution_count": 9,
      "outputs": []
    },
    {
      "cell_type": "code",
      "source": [
        "#Parsing\n",
        "soup = BeautifulSoup(html_doc, 'html.parser')\n",
        "# Formating the parsed html file\n",
        "strhtm = soup.prettify()\n",
        "# Print few lines\n",
        "print (strhtm[:5000])"
      ],
      "metadata": {
        "colab": {
          "base_uri": "https://localhost:8080/"
        },
        "id": "_Y26zHo8vkJ2",
        "outputId": "d12b20c0-9605-46bb-e645-c1f0b55d65c1"
      },
      "execution_count": 10,
      "outputs": [
        {
          "output_type": "stream",
          "name": "stdout",
          "text": [
            "<!DOCTYPE html>\n",
            "<html class=\"client-nojs vector-feature-language-in-header-enabled vector-feature-language-in-main-page-header-disabled vector-feature-page-tools-pinned-disabled vector-feature-toc-pinned-clientpref-1 vector-feature-main-menu-pinned-disabled vector-feature-limited-width-clientpref-1 vector-feature-limited-width-content-enabled vector-feature-custom-font-size-clientpref-1 vector-feature-appearance-pinned-clientpref-1 vector-feature-night-mode-enabled skin-theme-clientpref-day vector-sticky-header-enabled vector-toc-available\" dir=\"ltr\" lang=\"en\">\n",
            " <head>\n",
            "  <meta charset=\"utf-8\"/>\n",
            "  <title>\n",
            "   Natural language processing - Wikipedia\n",
            "  </title>\n",
            "  <script>\n",
            "   (function(){var className=\"client-js vector-feature-language-in-header-enabled vector-feature-language-in-main-page-header-disabled vector-feature-page-tools-pinned-disabled vector-feature-toc-pinned-clientpref-1 vector-feature-main-menu-pinned-disabled vector-feature-limited-width-clientpref-1 vector-feature-limited-width-content-enabled vector-feature-custom-font-size-clientpref-1 vector-feature-appearance-pinned-clientpref-1 vector-feature-night-mode-enabled skin-theme-clientpref-day vector-sticky-header-enabled vector-toc-available\";var cookie=document.cookie.match(/(?:^|; )enwikimwclientpreferences=([^;]+)/);if(cookie){cookie[1].split('%2C').forEach(function(pref){className=className.replace(new RegExp('(^| )'+pref.replace(/-clientpref-\\w+$|[^\\w-]+/g,'')+'-clientpref-\\\\w+( |$)'),'$1'+pref+'$2');});}document.documentElement.className=className;}());RLCONF={\"wgBreakFrames\":false,\"wgSeparatorTransformTable\":[\"\",\"\"],\"wgDigitTransformTable\":[\"\",\"\"],\"wgDefaultDateFormat\":\"dmy\",\n",
            "\"wgMonthNames\":[\"\",\"January\",\"February\",\"March\",\"April\",\"May\",\"June\",\"July\",\"August\",\"September\",\"October\",\"November\",\"December\"],\"wgRequestId\":\"d79e7f30-9e29-49dd-932a-f1f00c0a809f\",\"wgCanonicalNamespace\":\"\",\"wgCanonicalSpecialPageName\":false,\"wgNamespaceNumber\":0,\"wgPageName\":\"Natural_language_processing\",\"wgTitle\":\"Natural language processing\",\"wgCurRevisionId\":1274942014,\"wgRevisionId\":1274942014,\"wgArticleId\":21652,\"wgIsArticle\":true,\"wgIsRedirect\":false,\"wgAction\":\"view\",\"wgUserName\":null,\"wgUserGroups\":[\"*\"],\"wgCategories\":[\"All accuracy disputes\",\"Accuracy disputes from December 2013\",\"Harv and Sfn no-target errors\",\"CS1 errors: periodical ignored\",\"CS1 maint: location\",\"Articles with short description\",\"Short description is different from Wikidata\",\"Articles needing additional references from May 2024\",\"All articles needing additional references\",\"All articles with unsourced statements\",\"Articles with unsourced statements from May 2024\",\"Commons category link from Wikidata\",\n",
            "\"Natural language processing\",\"Computational fields of study\",\"Computational linguistics\",\"Speech recognition\"],\"wgPageViewLanguage\":\"en\",\"wgPageContentLanguage\":\"en\",\"wgPageContentModel\":\"wikitext\",\"wgRelevantPageName\":\"Natural_language_processing\",\"wgRelevantArticleId\":21652,\"wgIsProbablyEditable\":true,\"wgRelevantPageIsProbablyEditable\":true,\"wgRestrictionEdit\":[],\"wgRestrictionMove\":[],\"wgNoticeProject\":\"wikipedia\",\"wgCiteReferencePreviewsActive\":false,\"wgFlaggedRevsParams\":{\"tags\":{\"status\":{\"levels\":1}}},\"wgMediaViewerOnClick\":true,\"wgMediaViewerEnabledByDefault\":true,\"wgPopupsFlags\":0,\"wgVisualEditor\":{\"pageLanguageCode\":\"en\",\"pageLanguageDir\":\"ltr\",\"pageVariantFallbacks\":\"en\"},\"wgMFDisplayWikibaseDescriptions\":{\"search\":true,\"watchlist\":true,\"tagline\":false,\"nearby\":true},\"wgWMESchemaEditAttemptStepOversample\":false,\"wgWMEPageLength\":60000,\"wgEditSubmitButtonLabelPublish\":true,\"wgULSPosition\":\"interlanguage\",\"wgULSisCompactLinksEnabled\":false,\"wgVector2022LanguageInHeader\":true,\n",
            "\"wgULSisLanguageSelectorEmpty\":false,\"wgWikibaseItemId\":\"Q30642\",\"wgCheckUserClientHintsHeadersJsApi\":[\"brands\",\"architecture\",\"bitness\",\"fullVersionList\",\"mobile\",\"model\",\"platform\",\"platformVersion\"],\"GEHomepageSuggestedEditsEnableTopics\":true,\"wgGETopicsMatchModeEnabled\":false,\"wgGEStructuredTaskRejectionReasonTextInputEnabled\":false,\"wgGELevelingUpEnabledForUser\":false};RLSTATE={\"ext.globalCssJs.user.styles\":\"ready\",\"site.styles\":\"ready\",\"user.styles\":\"ready\",\"ext.globalCssJs.user\":\"ready\",\"user\":\"ready\",\"user.options\":\"loading\",\"ext.cite.styles\":\"ready\",\"ext.math.styles\":\"ready\",\"skins.vector.search.codex.styles\":\"ready\",\"skins.vector.styles\":\"ready\",\"skins.vector.icons\":\"ready\",\"jquery.makeCollapsible.styles\":\"ready\",\"ext.wikimediamessages.styles\":\"ready\",\"ext.visualEditor.desktopArticleTarget.noscript\":\"ready\",\"ext.uls.interlanguage\":\"ready\",\"wikibase.client.init\":\"ready\",\"ext.wikimediaBadges\":\"ready\"};RLPAGEMODULES=[\"ext.cite.ux-enhancements\",\"ext.scribunto.logs\",\"site\",\n",
            "\"mediawiki.page.ready\",\"jquery.makeCollapsible\",\"mediawiki.toc\",\"skins.vector.js\",\"ext.centralNotice.geoIP\",\"ext.centralNotice.startUp\",\"ext.gadget.ReferenceTooltips\",\"ext.gadget.switcher\",\"ext.urlShortener.toolbar\",\"ext.centralauth.centralautologin\",\"mmv.bootstrap\",\"ext.popups\",\"ext.visualEditor.desktopArticleTarget.init\",\"ext.visu\n"
          ]
        }
      ]
    },
    {
      "cell_type": "code",
      "source": [],
      "metadata": {
        "id": "43fYv6cVvn5_"
      },
      "execution_count": null,
      "outputs": []
    }
  ]
}