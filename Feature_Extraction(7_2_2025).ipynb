{
  "cells": [
    {
      "cell_type": "markdown",
      "metadata": {
        "id": "view-in-github",
        "colab_type": "text"
      },
      "source": [
        "<a href=\"https://colab.research.google.com/github/Pushyanth-sai/LMS-AD/blob/main/Feature_Extraction(7_2_2025).ipynb\" target=\"_parent\"><img src=\"https://colab.research.google.com/assets/colab-badge.svg\" alt=\"Open In Colab\"/></a>"
      ]
    },
    {
      "cell_type": "code",
      "execution_count": null,
      "id": "73e9d07d",
      "metadata": {
        "id": "73e9d07d"
      },
      "outputs": [],
      "source": [
        "Text = \"I am learning NLP\""
      ]
    },
    {
      "cell_type": "code",
      "execution_count": null,
      "id": "96234f85",
      "metadata": {
        "id": "96234f85",
        "outputId": "e409f655-1773-48e7-e762-11930adb5e56"
      },
      "outputs": [
        {
          "data": {
            "text/html": [
              "<div>\n",
              "<style scoped>\n",
              "    .dataframe tbody tr th:only-of-type {\n",
              "        vertical-align: middle;\n",
              "    }\n",
              "\n",
              "    .dataframe tbody tr th {\n",
              "        vertical-align: top;\n",
              "    }\n",
              "\n",
              "    .dataframe thead th {\n",
              "        text-align: right;\n",
              "    }\n",
              "</style>\n",
              "<table border=\"1\" class=\"dataframe\">\n",
              "  <thead>\n",
              "    <tr style=\"text-align: right;\">\n",
              "      <th></th>\n",
              "      <th>I</th>\n",
              "      <th>NLP</th>\n",
              "      <th>am</th>\n",
              "      <th>learning</th>\n",
              "    </tr>\n",
              "  </thead>\n",
              "  <tbody>\n",
              "    <tr>\n",
              "      <th>0</th>\n",
              "      <td>1</td>\n",
              "      <td>0</td>\n",
              "      <td>0</td>\n",
              "      <td>0</td>\n",
              "    </tr>\n",
              "    <tr>\n",
              "      <th>1</th>\n",
              "      <td>0</td>\n",
              "      <td>0</td>\n",
              "      <td>1</td>\n",
              "      <td>0</td>\n",
              "    </tr>\n",
              "    <tr>\n",
              "      <th>2</th>\n",
              "      <td>0</td>\n",
              "      <td>0</td>\n",
              "      <td>0</td>\n",
              "      <td>1</td>\n",
              "    </tr>\n",
              "    <tr>\n",
              "      <th>3</th>\n",
              "      <td>0</td>\n",
              "      <td>1</td>\n",
              "      <td>0</td>\n",
              "      <td>0</td>\n",
              "    </tr>\n",
              "  </tbody>\n",
              "</table>\n",
              "</div>"
            ],
            "text/plain": [
              "   I  NLP  am  learning\n",
              "0  1    0   0         0\n",
              "1  0    0   1         0\n",
              "2  0    0   0         1\n",
              "3  0    1   0         0"
            ]
          },
          "execution_count": 2,
          "metadata": {},
          "output_type": "execute_result"
        }
      ],
      "source": [
        "import pandas as pd\n",
        "pd.get_dummies(Text.split())"
      ]
    },
    {
      "cell_type": "code",
      "execution_count": null,
      "id": "2db5a7ab",
      "metadata": {
        "id": "2db5a7ab"
      },
      "outputs": [],
      "source": [
        "text = [\"i love NLP and i will learn NLP in 2month\"]"
      ]
    },
    {
      "cell_type": "code",
      "execution_count": null,
      "id": "7b2b134c",
      "metadata": {
        "id": "7b2b134c"
      },
      "outputs": [],
      "source": [
        "from sklearn.feature_extraction.text import CountVectorizer\n",
        "vectorizer = CountVectorizer()\n",
        "vectorizer.fit(text)\n",
        "vector = vectorizer.transform(text)"
      ]
    },
    {
      "cell_type": "code",
      "execution_count": null,
      "id": "c19e99d2",
      "metadata": {
        "id": "c19e99d2",
        "outputId": "625c1a74-e4e0-434d-a00b-49e1d881d627"
      },
      "outputs": [
        {
          "name": "stdout",
          "output_type": "stream",
          "text": [
            "{'love': 4, 'nlp': 5, 'and': 1, 'will': 6, 'learn': 3, 'in': 2, '2month': 0}\n",
            "[[1 1 1 1 1 2 1]]\n"
          ]
        }
      ],
      "source": [
        "print(vectorizer.vocabulary_)\n",
        "print(vector.toarray())"
      ]
    },
    {
      "cell_type": "code",
      "execution_count": null,
      "id": "8000233f",
      "metadata": {
        "id": "8000233f",
        "outputId": "9a3dc602-2da4-4aa7-c904-5216e6202234"
      },
      "outputs": [
        {
          "name": "stdout",
          "output_type": "stream",
          "text": [
            "  (0, 0)\t1\n",
            "  (0, 1)\t1\n",
            "  (0, 2)\t1\n",
            "  (0, 3)\t1\n",
            "  (0, 4)\t1\n",
            "  (0, 5)\t2\n",
            "  (0, 6)\t1\n"
          ]
        }
      ],
      "source": [
        "print(vector)"
      ]
    },
    {
      "cell_type": "code",
      "execution_count": null,
      "id": "6f6fd0ea",
      "metadata": {
        "id": "6f6fd0ea"
      },
      "outputs": [],
      "source": [
        "CountVectorizer?"
      ]
    },
    {
      "cell_type": "code",
      "execution_count": null,
      "id": "55a1257c",
      "metadata": {
        "id": "55a1257c",
        "outputId": "11b198c4-5edc-48b5-8f1a-2a6a0e5065d3"
      },
      "outputs": [
        {
          "data": {
            "text/html": [
              "<div>\n",
              "<style scoped>\n",
              "    .dataframe tbody tr th:only-of-type {\n",
              "        vertical-align: middle;\n",
              "    }\n",
              "\n",
              "    .dataframe tbody tr th {\n",
              "        vertical-align: top;\n",
              "    }\n",
              "\n",
              "    .dataframe thead th {\n",
              "        text-align: right;\n",
              "    }\n",
              "</style>\n",
              "<table border=\"1\" class=\"dataframe\">\n",
              "  <thead>\n",
              "    <tr style=\"text-align: right;\">\n",
              "      <th></th>\n",
              "      <th>2month</th>\n",
              "      <th>and</th>\n",
              "      <th>in</th>\n",
              "      <th>learn</th>\n",
              "      <th>love</th>\n",
              "      <th>nlp</th>\n",
              "      <th>will</th>\n",
              "    </tr>\n",
              "  </thead>\n",
              "  <tbody>\n",
              "    <tr>\n",
              "      <th>0</th>\n",
              "      <td>1</td>\n",
              "      <td>1</td>\n",
              "      <td>1</td>\n",
              "      <td>1</td>\n",
              "      <td>1</td>\n",
              "      <td>2</td>\n",
              "      <td>1</td>\n",
              "    </tr>\n",
              "  </tbody>\n",
              "</table>\n",
              "</div>"
            ],
            "text/plain": [
              "   2month  and  in  learn  love  nlp  will\n",
              "0       1    1   1      1     1    2     1"
            ]
          },
          "execution_count": 10,
          "metadata": {},
          "output_type": "execute_result"
        }
      ],
      "source": [
        "df = pd.DataFrame(data=vector.toarray(), columns=vectorizer.get_feature_names_out() )\n",
        "df"
      ]
    },
    {
      "cell_type": "code",
      "execution_count": null,
      "id": "a14624ab",
      "metadata": {
        "id": "a14624ab"
      },
      "outputs": [],
      "source": [
        "text = \"I am learing NLP\""
      ]
    },
    {
      "cell_type": "code",
      "execution_count": null,
      "id": "d0ec63c9",
      "metadata": {
        "id": "d0ec63c9",
        "outputId": "4e001add-e2b1-4f9f-acdc-479efe93b2f4"
      },
      "outputs": [
        {
          "name": "stderr",
          "output_type": "stream",
          "text": [
            "[nltk_data] Downloading package punkt_tab to\n",
            "[nltk_data]     C:\\Users\\kalle\\AppData\\Roaming\\nltk_data...\n",
            "[nltk_data]   Package punkt_tab is already up-to-date!\n"
          ]
        },
        {
          "data": {
            "text/plain": [
              "True"
            ]
          },
          "execution_count": 12,
          "metadata": {},
          "output_type": "execute_result"
        }
      ],
      "source": [
        "import nltk\n",
        "nltk.download('punkt_tab')"
      ]
    },
    {
      "cell_type": "code",
      "execution_count": null,
      "id": "52fc40f4",
      "metadata": {
        "id": "52fc40f4",
        "outputId": "75bfb20b-c871-42ff-a423-689da0ec4a9a"
      },
      "outputs": [
        {
          "name": "stdout",
          "output_type": "stream",
          "text": [
            "Defaulting to user installation because normal site-packages is not writeable\n",
            "Requirement already satisfied: textblob in c:\\users\\kalle\\appdata\\roaming\\python\\python39\\site-packages (0.19.0)\n",
            "Requirement already satisfied: nltk>=3.9 in c:\\users\\kalle\\appdata\\roaming\\python\\python39\\site-packages (from textblob) (3.9.1)\n",
            "Requirement already satisfied: tqdm in c:\\programdata\\anaconda3\\lib\\site-packages (from nltk>=3.9->textblob) (4.64.0)\n",
            "Requirement already satisfied: regex>=2021.8.3 in c:\\programdata\\anaconda3\\lib\\site-packages (from nltk>=3.9->textblob) (2022.3.15)\n",
            "Requirement already satisfied: click in c:\\programdata\\anaconda3\\lib\\site-packages (from nltk>=3.9->textblob) (8.0.4)\n",
            "Requirement already satisfied: joblib in c:\\programdata\\anaconda3\\lib\\site-packages (from nltk>=3.9->textblob) (1.1.0)\n",
            "Requirement already satisfied: colorama in c:\\users\\kalle\\appdata\\roaming\\python\\python39\\site-packages (from click->nltk>=3.9->textblob) (0.4.6)\n"
          ]
        }
      ],
      "source": [
        "!pip install textblob"
      ]
    },
    {
      "cell_type": "code",
      "execution_count": null,
      "id": "67280546",
      "metadata": {
        "id": "67280546",
        "outputId": "b9d0f014-3d60-4fd9-b607-3792d8500eec"
      },
      "outputs": [
        {
          "data": {
            "text/plain": [
              "[WordList(['I']), WordList(['am']), WordList(['learing']), WordList(['NLP'])]"
            ]
          },
          "execution_count": 14,
          "metadata": {},
          "output_type": "execute_result"
        }
      ],
      "source": [
        "from textblob import TextBlob\n",
        "TextBlob(text).ngrams(1)"
      ]
    },
    {
      "cell_type": "code",
      "execution_count": null,
      "id": "e601af72",
      "metadata": {
        "id": "e601af72",
        "outputId": "d9799489-d921-4090-b79e-fc12aacfe184"
      },
      "outputs": [
        {
          "data": {
            "text/plain": [
              "[WordList(['I', 'am']),\n",
              " WordList(['am', 'learing']),\n",
              " WordList(['learing', 'NLP'])]"
            ]
          },
          "execution_count": 15,
          "metadata": {},
          "output_type": "execute_result"
        }
      ],
      "source": [
        "TextBlob(text).ngrams(2)"
      ]
    },
    {
      "cell_type": "code",
      "execution_count": null,
      "id": "79321fdc",
      "metadata": {
        "id": "79321fdc",
        "outputId": "6b46bf36-8373-409d-9b6a-3a41e852ce41"
      },
      "outputs": [
        {
          "data": {
            "text/plain": [
              "[WordList(['I', 'am', 'learing']), WordList(['am', 'learing', 'NLP'])]"
            ]
          },
          "execution_count": 16,
          "metadata": {},
          "output_type": "execute_result"
        }
      ],
      "source": [
        "TextBlob(text).ngrams(3)"
      ]
    },
    {
      "cell_type": "code",
      "execution_count": null,
      "id": "333ed245",
      "metadata": {
        "id": "333ed245",
        "outputId": "4e96346d-cf13-4497-8b40-2c38869237b1"
      },
      "outputs": [
        {
          "data": {
            "text/plain": [
              "[WordList(['I', 'am', 'learing', 'NLP'])]"
            ]
          },
          "execution_count": 17,
          "metadata": {},
          "output_type": "execute_result"
        }
      ],
      "source": [
        "TextBlob(text).ngrams(4)"
      ]
    },
    {
      "cell_type": "code",
      "execution_count": null,
      "id": "9506abbf",
      "metadata": {
        "id": "9506abbf"
      },
      "outputs": [],
      "source": [
        "Text = [\"The quick browm fox jumped over the lazy dog.\", \"The dog.\", \"The fox\"]"
      ]
    },
    {
      "cell_type": "code",
      "execution_count": null,
      "id": "2ff0dc3f",
      "metadata": {
        "id": "2ff0dc3f",
        "outputId": "9a3f99b5-14b3-4353-fd74-d268c361f5c6"
      },
      "outputs": [
        {
          "name": "stdout",
          "output_type": "stream",
          "text": [
            "{'the': 7, 'quick': 6, 'browm': 0, 'fox': 2, 'jumped': 3, 'over': 5, 'lazy': 4, 'dog': 1}\n",
            "[1.69314718 1.28768207 1.28768207 1.69314718 1.69314718 1.69314718\n",
            " 1.69314718 1.        ]\n"
          ]
        }
      ],
      "source": [
        "from sklearn.feature_extraction.text import TfidfVectorizer\n",
        "vectorizer = TfidfVectorizer()\n",
        "vectorizer.fit(Text)\n",
        "print(vectorizer.vocabulary_)\n",
        "print(vectorizer.idf_)"
      ]
    },
    {
      "cell_type": "code",
      "execution_count": null,
      "id": "aaa14500",
      "metadata": {
        "id": "aaa14500"
      },
      "outputs": [],
      "source": []
    }
  ],
  "metadata": {
    "kernelspec": {
      "display_name": "Python 3 (ipykernel)",
      "language": "python",
      "name": "python3"
    },
    "language_info": {
      "codemirror_mode": {
        "name": "ipython",
        "version": 3
      },
      "file_extension": ".py",
      "mimetype": "text/x-python",
      "name": "python",
      "nbconvert_exporter": "python",
      "pygments_lexer": "ipython3",
      "version": "3.9.12"
    },
    "colab": {
      "provenance": [],
      "include_colab_link": true
    }
  },
  "nbformat": 4,
  "nbformat_minor": 5
}